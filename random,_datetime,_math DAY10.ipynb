{
  "nbformat": 4,
  "nbformat_minor": 0,
  "metadata": {
    "colab": {
      "provenance": [],
      "include_colab_link": true
    },
    "kernelspec": {
      "name": "python3",
      "display_name": "Python 3"
    },
    "language_info": {
      "name": "python"
    }
  },
  "cells": [
    {
      "cell_type": "markdown",
      "metadata": {
        "id": "view-in-github",
        "colab_type": "text"
      },
      "source": [
        "<a href=\"https://colab.research.google.com/github/komalpreetkaur1234-dev/DAILY-DAIRY/blob/main/random%2C_datetime%2C_math%20DAY10.ipynb\" target=\"_parent\"><img src=\"https://colab.research.google.com/assets/colab-badge.svg\" alt=\"Open In Colab\"/></a>"
      ]
    },
    {
      "cell_type": "markdown",
      "source": [
        "\n",
        "\n",
        "In Python, a module is a file containing Python definitions and statements. These files can contain functions, classes, variables, or runnable code that can be imported and used in other Python scripts or interactive sessions. Modules allow for modular programming in Python, enabling code reuse, organization, and abstraction.\n",
        "\n",
        "### Key Concepts of Python Modules:\n",
        "\n",
        "1. **Purpose and Utility**:\n",
        "   - Modules serve as building blocks for structuring Python programs into reusable components.\n",
        "   - They promote code organization, making it easier to manage and maintain large codebases.\n",
        "   - Modules encapsulate related functionality, promoting modularity and separation of concerns.\n",
        "\n",
        "2. **Creating Modules**:\n",
        "   - Any Python file can be considered a module by placing Python code within it.\n",
        "   - A module typically has a `.py` extension (e.g., `module_name.py`).\n",
        "   - It can include function definitions, class definitions, variables, and executable code.\n",
        "\n",
        "3. **Importing Modules**:\n",
        "   - To use the contents of a module in another Python script or session, you need to import it.\n",
        "   - Importing makes the definitions (functions, classes, variables) within the module accessible.\n",
        "\n",
        "4. **Module Namespaces**:\n",
        "   - Each module has its own namespace, which serves as a container for its definitions.\n",
        "   - Namespaces prevent naming conflicts by encapsulating module-specific names.\n",
        "\n",
        "5. **Standard Library and Third-Party Modules**:\n",
        "   - Python comes with a standard library containing built-in modules that provide commonly used functionality (e.g., `math`, `os`, `datetime`).\n",
        "   - Third-party modules can be installed separately using package managers like `pip`. These extend Python's capabilities beyond the standard library.\n",
        "\n",
        "6. **Package vs. Module**:\n",
        "   - A package is a collection of modules organized in directories. It includes an `__init__.py` file to indicate it's a package.\n",
        "   - Packages can contain sub-packages and modules, enabling hierarchical organization of code.\n",
        "\n",
        "### Example of Using a Module:\n",
        "\n",
        "Let's consider a simple example where we create a module named `my_module.py`:\n",
        "\n",
        "```python\n",
        "# my_module.py\n",
        "\n",
        "def greet(name):\n",
        "    print(f\"Hello, {name}!\")\n",
        "\n",
        "def add_numbers(a, b):\n",
        "    return a + b\n",
        "\n",
        "if __name__ == \"__main__\":\n",
        "    # Executable code when running this module directly\n",
        "    print(\"Executing my_module.py directly.\")\n",
        "    result = add_numbers(3, 5)\n",
        "    print(\"Result:\", result)\n",
        "```\n",
        "\n",
        "To use this module in another Python script `main.py`, you would import it like this:\n",
        "\n",
        "```python\n",
        "# main.py\n",
        "\n",
        "import my_module\n",
        "\n",
        "my_module.greet(\"Alice\")\n",
        "sum_result = my_module.add_numbers(10, 20)\n",
        "print(\"Sum:\", sum_result)\n",
        "```\n",
        "\n",
        "### Benefits of Using Modules:\n",
        "\n",
        "- **Code Reusability**: Modules allow you to reuse functions, classes, and variables across different parts of your program.\n",
        "- **Encapsulation**: Modules encapsulate related functionality, promoting clear and organized code.\n",
        "- **Namespace Management**: Modules manage namespaces to avoid name conflicts and maintain code clarity.\n",
        "- **Facilitates Collaboration**: Modules enable multiple developers to work on different parts of a project concurrently while maintaining code integrity.\n",
        "\n",
        "\n"
      ],
      "metadata": {
        "id": "BovqfxVjdzcT"
      }
    },
    {
      "cell_type": "code",
      "execution_count": null,
      "metadata": {
        "id": "ZyODnoACde-O"
      },
      "outputs": [],
      "source": []
    },
    {
      "cell_type": "markdown",
      "source": [
        "\n",
        "\n",
        "#### Introduction to the Random Module\n",
        "\n",
        "The `random` module in Python provides functions to generate random numbers and perform random selections. It's a versatile tool used in various applications such as simulations, games, cryptography, and statistical sampling. Understanding its functions and usage can greatly enhance your ability to handle randomness in Python programming.\n",
        "\n",
        "#### Key Functions of the Random Module\n",
        "\n",
        "1. **Generating Random Numbers**\n",
        "   - `random.random()`: Returns a random float in the range [0.0, 1.0).\n",
        "   - `random.randint(a, b)`: Returns a random integer between `a` and `b`, inclusive.\n",
        "   - `random.uniform(a, b)`: Returns a random float between `a` and `b`.\n",
        "\n",
        "2. **Random Choices**\n",
        "   - `random.choice(seq)`: Returns a random element from the non-empty sequence `seq`.\n",
        "   - `random.choices(population, weights=None, k=1)`: Returns a list of `k` elements chosen from `population` with optional weights.\n",
        "   - `random.sample(population, k)`: Returns a k-length list of unique elements chosen from `population`.\n",
        "\n",
        "3. **Shuffling and Randomization**\n",
        "   - `random.shuffle(lst)`: Shuffles the elements of list `lst` in place.\n",
        "   - `random.sample(population, k)`: Returns a k-length list of unique elements chosen from `population`.\n",
        "\n",
        "4. **Seed Control**\n",
        "   - `random.seed(a=None)`: Initializes the random number generator with a seed value `a`. Ensures reproducibility of results when the same seed is used.\n",
        "\n",
        "#### Examples and Demonstrations\n",
        "\n",
        "\n",
        "```\n",
        "\n",
        "#### Practical Applications\n",
        "\n",
        "- **Game Development**: Use `random` for generating random game levels, enemy behavior, or dice rolls.\n",
        "  \n",
        "- **Statistical Sampling**: Implement simulations or experiments where random sampling is required.\n",
        "\n",
        "- **Cryptographic Applications**: Generate random keys or salts for encryption purposes.\n",
        "\n",
        "- **Data Analysis**: Randomly shuffle data for machine learning model validation or statistical testing.\n",
        "\n",
        "#### Conclusion\n",
        "\n",
        "The `random` module in Python is a powerful tool for handling randomness in various applications. By mastering its functions, you can efficiently generate random values, make random selections, shuffle data, and ensure reproducibility when needed. Understanding these concepts enhances your ability to create robust and dynamic Python programs."
      ],
      "metadata": {
        "id": "QfFPQ_AkeXcm"
      }
    },
    {
      "cell_type": "code",
      "source": [
        "# Generating Random Numbers\n",
        "\n",
        "import random\n",
        "\n",
        "# Generate a random float between 0.0 and 1.0\n",
        "print(random.random())\n",
        "\n",
        "# Generate a random integer between 1 and 10\n",
        "print(random.randint(1, 10))\n",
        "\n",
        "# Generate a random float between 1.0 and 5.0\n",
        "print(random.uniform(1.0, 5.0))\n",
        "\n",
        "\n"
      ],
      "metadata": {
        "id": "xe4rPBPhelcY",
        "colab": {
          "base_uri": "https://localhost:8080/"
        },
        "outputId": "1f1175ce-f6b6-4240-ed4c-bdc7c66298dd"
      },
      "execution_count": null,
      "outputs": [
        {
          "output_type": "stream",
          "name": "stdout",
          "text": [
            "0.8208815419333755\n",
            "5\n",
            "3.0270012390936056\n"
          ]
        }
      ]
    },
    {
      "cell_type": "code",
      "source": [
        "# Random Choices\n",
        "\n",
        "\n",
        "import random\n",
        "\n",
        "colors = ['Red', 'Green', 'Blue', 'Yellow']\n",
        "\n",
        "# Choose a random color from the list\n",
        "print(random.choice(colors))\n",
        "\n",
        "# Choose 3 colors with replacement (may repeat)\n",
        "print(random.choices(colors, k=3))\n",
        "\n",
        "# Choose 2 unique colors without replacement\n",
        "print(random.sample(colors, k=2))\n",
        "\n",
        "\n"
      ],
      "metadata": {
        "id": "-A9IRn_IeucA",
        "colab": {
          "base_uri": "https://localhost:8080/"
        },
        "outputId": "d67c56c7-3d50-4713-9399-5f0eaea9fece"
      },
      "execution_count": null,
      "outputs": [
        {
          "output_type": "stream",
          "name": "stdout",
          "text": [
            "Yellow\n",
            "['Yellow', 'Yellow', 'Green']\n",
            "['Red', 'Yellow']\n"
          ]
        }
      ]
    },
    {
      "cell_type": "code",
      "source": [
        "# Shuffling a List\n",
        "\n",
        "\n",
        "import random\n",
        "\n",
        "deck = ['Ace', 'King', 'Queen', 'Jack', '10', '9', '8', '7']\n",
        "\n",
        "# Shuffle the deck in place\n",
        "random.shuffle(deck)\n",
        "print(deck)\n",
        "\n"
      ],
      "metadata": {
        "id": "xdZUAmCke3Le",
        "colab": {
          "base_uri": "https://localhost:8080/"
        },
        "outputId": "1e77fc55-48ee-4f6a-8702-dc5fa7e7bfa4"
      },
      "execution_count": null,
      "outputs": [
        {
          "output_type": "stream",
          "name": "stdout",
          "text": [
            "['Queen', '10', 'King', 'Jack', '9', '8', 'Ace', '7']\n"
          ]
        }
      ]
    },
    {
      "cell_type": "code",
      "source": [
        "# Seed Control for Reproducibility\n",
        "\n",
        "\n",
        "import random\n",
        "\n",
        "# Seed with a specific value for reproducibility\n",
        "random.seed(23)\n",
        "\n",
        "# Generate a sequence of random numbers\n",
        "print(random.random())\n",
        "print(random.randint(1, 10))"
      ],
      "metadata": {
        "id": "cv1IOBXVe9vc",
        "colab": {
          "base_uri": "https://localhost:8080/"
        },
        "outputId": "6959469f-00c4-4182-b507-15dc3c043d3f"
      },
      "execution_count": null,
      "outputs": [
        {
          "output_type": "stream",
          "name": "stdout",
          "text": [
            "0.9248652516259452\n",
            "5\n"
          ]
        }
      ]
    },
    {
      "cell_type": "markdown",
      "source": [],
      "metadata": {
        "id": "zSIakARceklG"
      }
    },
    {
      "cell_type": "markdown",
      "source": [
        "# **Introduction to the Math Module**\n",
        "\n",
        "The math module in Python provides access to mathematical functions that perform mathematical operations on numerical data. It includes functions for basic arithmetic, trigonometry, logarithms, exponentiation, and more complex operations. Understanding and utilizing the math module is essential for performing advanced mathematical computations in Python.\n",
        "\n",
        "**Key Functions of the Math Module**\n",
        "\n",
        "**1.Basic Arithmetic Operations**\n",
        "\n",
        "* math.sqrt(x): Returns the square root of x.\n",
        "* math.pow(x, y): Returns x raised to the power of y.\n",
        "* math.factorial(x): Returns the factorial of x.\n",
        "\n",
        "**2.Trigonometric Functions**\n",
        "\n",
        "* math.sin(x), math.cos(x), math.tan(x): Returns the sine, cosine, and tangent of x (in radians).\n",
        "* math.radians(x), math.degrees(x): Convert angles from degrees to radians and vice versa.\n",
        "\n",
        "**3.Logarithmic and Exponential Functions**\n",
        "\n",
        "* math.log(x, base): Returns the logarithm of x to the given base (default is natural logarithm).\n",
        "*math.exp(x): Returns e raised to the power of x.\n",
        "\n",
        "**Constants**\n",
        "\n",
        "* math.pi: Mathematical constant π (pi).\n",
        "* math.e: Mathematical constant e (base of natural logarithm)."
      ],
      "metadata": {
        "id": "iDqQI0zwfS47"
      }
    },
    {
      "cell_type": "markdown",
      "source": [
        "# Basic Arithmetic Operations"
      ],
      "metadata": {
        "id": "H_IPcNvvgCLx"
      }
    },
    {
      "cell_type": "code",
      "source": [
        "import math\n",
        "\n",
        "# Calculate square root of a number\n",
        "print(math.sqrt(25))\n",
        "\n",
        "# Calculate 2 raised to the power of 3\n",
        "print(math.pow(2, 3))\n",
        "\n",
        "# Calculate factorial of 5\n",
        "print(math.factorial(5))\n"
      ],
      "metadata": {
        "id": "nl4GxrY4e_6s",
        "colab": {
          "base_uri": "https://localhost:8080/"
        },
        "outputId": "5015eae8-9c47-44e1-d043-69bde60f2298"
      },
      "execution_count": null,
      "outputs": [
        {
          "output_type": "stream",
          "name": "stdout",
          "text": [
            "5.0\n",
            "8.0\n",
            "120\n"
          ]
        }
      ]
    },
    {
      "cell_type": "markdown",
      "source": [
        "# **Trigonometric Functions**"
      ],
      "metadata": {
        "id": "WZ2be_5bgGI5"
      }
    },
    {
      "cell_type": "code",
      "source": [
        "import math\n",
        "\n",
        "# Calculate sine of 45 degrees (converted to radians)\n",
        "print(math.sin(math.radians(45)))\n",
        "\n",
        "# Calculate cosine of 30 degrees (converted to radians)\n",
        "print(math.cos(math.radians(30)))\n",
        "\n",
        "# Calculate tangent of 60 degrees (converted to radians)\n",
        "print(math.tan(math.radians(60)))\n"
      ],
      "metadata": {
        "id": "JoyrS_m3gJse",
        "colab": {
          "base_uri": "https://localhost:8080/"
        },
        "outputId": "78bf4f15-9ef8-40f8-9da6-f8e73545429f"
      },
      "execution_count": null,
      "outputs": [
        {
          "output_type": "stream",
          "name": "stdout",
          "text": [
            "0.7071067811865475\n",
            "0.8660254037844387\n",
            "1.7320508075688767\n"
          ]
        }
      ]
    },
    {
      "cell_type": "markdown",
      "source": [
        "# **Logarithmic and Exponential Functions**"
      ],
      "metadata": {
        "id": "0tnDQp4_gMPK"
      }
    },
    {
      "cell_type": "code",
      "source": [
        "import math\n",
        "\n",
        "# Calculate natural logarithm of 10\n",
        "print(math.log(10))\n",
        "\n",
        "# Calculate logarithm of 100 to base 10\n",
        "print(math.log(100, 10))\n",
        "\n",
        "# Calculate e raised to the power of 2\n",
        "print(math.exp(2))\n"
      ],
      "metadata": {
        "id": "nRganvdRgTG7",
        "colab": {
          "base_uri": "https://localhost:8080/"
        },
        "outputId": "73340212-58d8-425e-d3e1-6b7337f89370"
      },
      "execution_count": null,
      "outputs": [
        {
          "output_type": "stream",
          "name": "stdout",
          "text": [
            "2.302585092994046\n",
            "2.0\n",
            "7.38905609893065\n"
          ]
        }
      ]
    },
    {
      "cell_type": "code",
      "source": [
        "print(math.pi)"
      ],
      "metadata": {
        "colab": {
          "base_uri": "https://localhost:8080/"
        },
        "id": "q9CJW-BhfW_M",
        "outputId": "6fb694df-7e51-4c72-e629-fdb298756ced"
      },
      "execution_count": null,
      "outputs": [
        {
          "output_type": "stream",
          "name": "stdout",
          "text": [
            "3.141592653589793\n"
          ]
        }
      ]
    },
    {
      "cell_type": "code",
      "source": [
        "print(math.e)"
      ],
      "metadata": {
        "colab": {
          "base_uri": "https://localhost:8080/"
        },
        "id": "6dKEZ_hUfd1u",
        "outputId": "802518ea-64d7-415a-9c2d-04e7aac87614"
      },
      "execution_count": null,
      "outputs": [
        {
          "output_type": "stream",
          "name": "stdout",
          "text": [
            "2.718281828459045\n"
          ]
        }
      ]
    },
    {
      "cell_type": "markdown",
      "source": [
        "**Practical Applications**\n",
        "\n",
        "* Scientific Computing: Use math for scientific calculations, numerical analysis, and modeling.\n",
        "\n",
        "* Engineering Applications: Perform calculations related to physics, geometry, and signal processing.\n",
        "\n",
        "* Financial Calculations: Compute interest rates, present values, and other financial metrics.\n",
        "\n",
        "* Statistical Analysis: Utilize mathematical functions for statistical operations such as probability distributions and hypothesis testing."
      ],
      "metadata": {
        "id": "3z2rw4RpgXl-"
      }
    },
    {
      "cell_type": "markdown",
      "source": [
        "\n",
        "\n",
        "#### Introduction to the Datetime Module\n",
        "\n",
        "The `datetime` module in Python provides classes for manipulating dates and times. It offers functionality to work with dates, times, timedeltas (differences between dates or times), time zones, and formatting options. Understanding and utilizing the `datetime` module is crucial for handling date and time data effectively in Python programming.\n",
        "\n",
        "#### Key Classes and Functions of the Datetime Module\n",
        "\n",
        "1. **Date Objects**\n",
        "   - `datetime.date(year, month, day)`: Represents a date (year, month, day).\n",
        "   - `date.today()`: Returns the current local date.\n",
        "   - `date.strftime(format)`: Formats a date object into a string using specified format codes.\n",
        "\n",
        "2. **Time Objects**\n",
        "   - `datetime.time(hour, minute, second, microsecond)`: Represents a time (hour, minute, second, microsecond).\n",
        "   - `time.strftime(format)`: Formats a time object into a string using specified format codes.\n",
        "\n",
        "3. **Datetime Objects**\n",
        "   - `datetime.datetime(year, month, day, hour, minute, second, microsecond)`: Represents a datetime (date and time).\n",
        "   - `datetime.now()`: Returns the current local datetime.\n",
        "   - `datetime.strptime(date_string, format)`: Parses a string into a datetime object based on the format.\n",
        "\n",
        "4. **Timedelta Objects**\n",
        "   - `datetime.timedelta(days, seconds, microseconds, milliseconds, minutes, hours, weeks)`: Represents a duration or difference between two dates or times.\n",
        "\n",
        "\n",
        "\n",
        "\n",
        "#### Practical Applications\n",
        "\n",
        "- **Date and Time Calculations**: Perform calculations such as date differences, time durations, and scheduling.\n",
        "  \n",
        "- **Data Analysis**: Manipulate timestamps and analyze time series data.\n",
        "\n",
        "- **Web Applications**: Manage session timeouts, scheduling tasks, or displaying timestamps.\n",
        "\n",
        "- **Database Operations**: Store and retrieve dates/times from databases and handle timezone conversions.\n",
        "\n"
      ],
      "metadata": {
        "id": "SZDVlZeAgfWo"
      }
    },
    {
      "cell_type": "code",
      "source": [
        "#### Examples and Demonstrations\n",
        "\n",
        "##### Working with Date Objects\n",
        "\n",
        "\n",
        "import datetime\n",
        "\n",
        "# Create a date object\n",
        "d = datetime.date(2024, 6, 17)\n",
        "print(d)\n",
        "\n",
        "# Get today's date\n",
        "today = datetime.date.today()\n",
        "print(today)\n",
        "\n",
        "# Format date as string\n",
        "print(today.strftime('%Y-%m-%d'))\n",
        "\n",
        "print(today.strftime('%d-%m-%Y'))\n",
        "\n",
        "\n",
        "\n",
        "\n",
        "\n"
      ],
      "metadata": {
        "id": "2UdLl4j6g_mo",
        "colab": {
          "base_uri": "https://localhost:8080/"
        },
        "outputId": "496cf0a9-50a2-4d0e-f44c-82db25fb97c6"
      },
      "execution_count": null,
      "outputs": [
        {
          "output_type": "stream",
          "name": "stdout",
          "text": [
            "2024-06-17\n",
            "2024-06-18\n",
            "2024-06-18\n",
            "18-06-2024\n"
          ]
        }
      ]
    },
    {
      "cell_type": "code",
      "source": [
        "## Working with Time Objects\n",
        "\n",
        "\n",
        "import datetime\n",
        "\n",
        "# Create a time object\n",
        "t = datetime.time(10, 30, 0)\n",
        "print(t)\n",
        "\n",
        "# Format time as string\n",
        "print(t.strftime('%H:%M:%S'))"
      ],
      "metadata": {
        "id": "mxPQaFWuhE00",
        "colab": {
          "base_uri": "https://localhost:8080/"
        },
        "outputId": "81e1c363-01d5-46ae-a031-f04a4e45aa0f"
      },
      "execution_count": null,
      "outputs": [
        {
          "output_type": "stream",
          "name": "stdout",
          "text": [
            "10:30:00\n",
            "10:30:00\n"
          ]
        }
      ]
    },
    {
      "cell_type": "code",
      "source": [
        "# Working with Datetime Objects\n",
        "\n",
        "\n",
        "import datetime\n",
        "\n",
        "# Create a datetime object\n",
        "dt = datetime.datetime(2024, 6, 17, 10, 30, 0)\n",
        "print(dt)\n",
        "\n",
        "# Get current datetime\n",
        "now = datetime.datetime.now()\n",
        "print(now)\n",
        "\n",
        "# Parse string to datetime\n",
        "dt_str = '2024-06-17 10:30:00'\n",
        "parsed_dt = datetime.datetime.strptime(dt_str, '%Y-%m-%d %H:%M:%S')\n",
        "print(parsed_dt)"
      ],
      "metadata": {
        "id": "C1kvMd4uhJws",
        "colab": {
          "base_uri": "https://localhost:8080/"
        },
        "outputId": "8d44d191-c220-4f24-e774-fc23537f8038"
      },
      "execution_count": null,
      "outputs": [
        {
          "output_type": "stream",
          "name": "stdout",
          "text": [
            "2024-06-17 10:30:00\n",
            "2024-06-18 04:01:28.375770\n",
            "2024-06-17 10:30:00\n"
          ]
        }
      ]
    },
    {
      "cell_type": "code",
      "source": [
        "\n",
        "import datetime\n",
        "\n",
        "# Calculate difference between two dates\n",
        "d1 = datetime.date(2024, 6, 17)\n",
        "d2 = datetime.date(2024, 6, 24)\n",
        "delta = d2 - d1\n",
        "print(delta.days)  # Number of days difference\n",
        "\n",
        "# Calculate difference between two times\n",
        "t1 = datetime.datetime(2024, 6, 17, 10, 0, 0)\n",
        "t2 = datetime.datetime(2024, 6, 17, 11, 30, 0)\n",
        "time_delta = t2 - t1\n",
        "print(time_delta.total_seconds())  # Difference in seconds"
      ],
      "metadata": {
        "id": "O8mxeJBAhPZj",
        "colab": {
          "base_uri": "https://localhost:8080/"
        },
        "outputId": "0f4196ab-5559-4369-febe-c6e6f4b099df"
      },
      "execution_count": null,
      "outputs": [
        {
          "output_type": "stream",
          "name": "stdout",
          "text": [
            "7\n",
            "5400.0\n"
          ]
        }
      ]
    },
    {
      "cell_type": "markdown",
      "source": [],
      "metadata": {
        "id": "sFErTNkVg8xD"
      }
    },
    {
      "cell_type": "markdown",
      "source": [],
      "metadata": {
        "id": "5AYVfdTngSlU"
      }
    },
    {
      "cell_type": "code",
      "source": [
        "class Sortable:\n",
        "    def sort_key(self):\n",
        "        return 0  # Default sort key, can be overridden by subclasses\n",
        "\n",
        "\n",
        "class Student(Sortable):\n",
        "    def __init__(self, name, age, grade):\n",
        "        self.name = name\n",
        "        self.age = age\n",
        "        self.grade = grade\n",
        "\n",
        "    def sort_key(self):\n",
        "        return self.grade  # Sort students by grade\n",
        "\n",
        "\n",
        "class Teacher(Sortable):\n",
        "    def __init__(self, name, experience_years, subject):\n",
        "        self.name = name\n",
        "        self.experience_years = experience_years\n",
        "        self.subject = subject\n",
        "\n",
        "    def sort_key(self):\n",
        "        return self.experience_years  # Sort teachers by experience years\n",
        "\n",
        "\n",
        "class Course(Sortable):\n",
        "    def __init__(self, name, course_code, students_enrolled):\n",
        "        self.name = name\n",
        "        self.course_code = course_code\n",
        "        self.students_enrolled = students_enrolled\n",
        "\n",
        "    def sort_key(self):\n",
        "        return self.students_enrolled  # Sort courses by number of students enrolled\n",
        "\n",
        "\n",
        "\n",
        "\n"
      ],
      "metadata": {
        "id": "n-hL35omPn4C"
      },
      "execution_count": null,
      "outputs": []
    },
    {
      "cell_type": "code",
      "source": [
        "# Creating instances of Student, Teacher, and Course\n",
        "students = [\n",
        "    Student(\"Alice\", 18, 85),\n",
        "    Student(\"Bob\", 19, 92),\n",
        "    Student(\"Charlie\", 17, 78)\n",
        "]\n",
        "\n",
        "teachers = [\n",
        "    Teacher(\"Mr. Smith\", 10, \"Math\"),\n",
        "    Teacher(\"Ms. Johnson\", 15, \"English\"),\n",
        "    Teacher(\"Dr. Brown\", 20, \"Physics\")\n",
        "]\n",
        "\n",
        "courses = [\n",
        "    Course(\"Mathematics\", \"MATH101\", 120),\n",
        "    Course(\"English Literature\", \"ENG201\", 80),\n",
        "    Course(\"Physics\", \"PHY301\", 150)\n",
        "]\n",
        "\n",
        "# Sorting using sort_key() defined in each class\n",
        "sorted_students = sorted(students, key=lambda student: student.sort_key(), reverse=True)\n",
        "sorted_teachers = sorted(teachers, key=lambda teacher: teacher.sort_key(), reverse=True)\n",
        "sorted_courses = sorted(courses, key=lambda course: course.sort_key(), reverse=True)\n",
        "\n",
        "# Printing sorted results\n",
        "print(\"Sorted Students:\")\n",
        "for student in sorted_students:\n",
        "    print(f\"{student.name} - Grade: {student.grade}\")\n",
        "\n",
        "print(\"\\nSorted Teachers:\")\n",
        "for teacher in sorted_teachers:\n",
        "    print(f\"{teacher.name} - Experience Years: {teacher.experience_years}\")\n",
        "\n",
        "print(\"\\nSorted Courses:\")\n",
        "for course in sorted_courses:\n",
        "    print(f\"{course.name} - Students Enrolled: {course.students_enrolled}\")\n"
      ],
      "metadata": {
        "colab": {
          "base_uri": "https://localhost:8080/"
        },
        "id": "LqPhcit0P505",
        "outputId": "9e5db0fd-f23c-4fa7-bfbd-b314cc20bd26"
      },
      "execution_count": null,
      "outputs": [
        {
          "output_type": "stream",
          "name": "stdout",
          "text": [
            "Sorted Students:\n",
            "Bob - Grade: 92\n",
            "Alice - Grade: 85\n",
            "Charlie - Grade: 78\n",
            "\n",
            "Sorted Teachers:\n",
            "Dr. Brown - Experience Years: 20\n",
            "Ms. Johnson - Experience Years: 15\n",
            "Mr. Smith - Experience Years: 10\n",
            "\n",
            "Sorted Courses:\n",
            "Physics - Students Enrolled: 150\n",
            "Mathematics - Students Enrolled: 120\n",
            "English Literature - Students Enrolled: 80\n"
          ]
        }
      ]
    },
    {
      "cell_type": "code",
      "source": [],
      "metadata": {
        "id": "TN0pWsVrP6qo"
      },
      "execution_count": null,
      "outputs": []
    }
  ]
}