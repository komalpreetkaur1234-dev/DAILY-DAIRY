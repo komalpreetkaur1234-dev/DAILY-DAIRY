{
  "nbformat": 4,
  "nbformat_minor": 0,
  "metadata": {
    "colab": {
      "provenance": [],
      "include_colab_link": true
    },
    "kernelspec": {
      "name": "python3",
      "display_name": "Python 3"
    },
    "language_info": {
      "name": "python"
    }
  },
  "cells": [
    {
      "cell_type": "markdown",
      "metadata": {
        "id": "view-in-github",
        "colab_type": "text"
      },
      "source": [
        "<a href=\"https://colab.research.google.com/github/komalpreetkaur1234-dev/DAILY-DAIRY/blob/main/day5.ipynb\" target=\"_parent\"><img src=\"https://colab.research.google.com/assets/colab-badge.svg\" alt=\"Open In Colab\"/></a>"
      ]
    },
    {
      "cell_type": "markdown",
      "source": [
        " **Conditional Statement**"
      ],
      "metadata": {
        "id": "eefX5Nbwu54L"
      }
    },
    {
      "cell_type": "markdown",
      "source": [
        "**IN PYTHON, THERE ARE FOUR FORMS OF THE IF.........ELSE STATEMENT**\n",
        "\n",
        "\n",
        "1.   IF STATEMENT\n",
        "2.   IF...ELSE STATEMENT\n",
        "3.   IF...ELIF STATEMENT\n",
        "4.   IF..ELIF...ELSE STATEMENT\n",
        "5.   NESTED IF\n",
        "\n",
        "\n",
        "\n",
        "\n",
        "\n",
        "\n",
        "   \n",
        "\n",
        "\n",
        "\n"
      ],
      "metadata": {
        "id": "QUd-DYiHvcmB"
      }
    },
    {
      "cell_type": "code",
      "source": [
        " #if statement\n",
        " #synatx: if condtion: body of if statement\n",
        " #rest of the code"
      ],
      "metadata": {
        "id": "xLofTfZFxLGc"
      },
      "execution_count": null,
      "outputs": []
    },
    {
      "cell_type": "code",
      "source": [
        "n1 = int(input(\"Enter a number:\"))\n",
        "if n1 % 2==0:\n",
        "  print(\"You have entered an even number\")\n",
        "print(\"done!\")"
      ],
      "metadata": {
        "colab": {
          "base_uri": "https://localhost:8080/"
        },
        "id": "Pem3BRhQxYtQ",
        "outputId": "e218a915-afd3-4ed0-8def-2d099cd11d04"
      },
      "execution_count": null,
      "outputs": [
        {
          "output_type": "stream",
          "name": "stdout",
          "text": [
            "Enter a number:6\n",
            "You have entered an even number\n",
            "done!\n"
          ]
        }
      ]
    },
    {
      "cell_type": "code",
      "source": [
        "age=int(input(\"enter your age\"))\n",
        "if age>18:\n",
        "  print(\"you can apply for license\")\n",
        "print(\"speed thrills but kills\")"
      ],
      "metadata": {
        "colab": {
          "base_uri": "https://localhost:8080/"
        },
        "id": "WEHUO0lSxZlr",
        "outputId": "a6377334-f214-4b68-a474-a9a04ce69a9c"
      },
      "execution_count": null,
      "outputs": [
        {
          "output_type": "stream",
          "name": "stdout",
          "text": [
            "enter your age23\n",
            "you can apply for license\n",
            "speed thrills but kills\n"
          ]
        }
      ]
    },
    {
      "cell_type": "code",
      "source": [
        " #if-else statement\n",
        " #syntax: if condition1:\n",
        " #bodyis executed only if condition is true"
      ],
      "metadata": {
        "id": "X8dfwF4byrKW"
      },
      "execution_count": null,
      "outputs": []
    },
    {
      "cell_type": "code",
      "source": [
        "a = int(input(\"Enter a positive number:\"))\n",
        "if a>0:\n",
        "  print(\"Well done!\")\n",
        "else:\n",
        "  print(\"Try again.\")"
      ],
      "metadata": {
        "colab": {
          "base_uri": "https://localhost:8080/"
        },
        "id": "PyMGTug9zTWn",
        "outputId": "5e7771a9-8565-4d98-8e7f-51e288e0db95"
      },
      "execution_count": null,
      "outputs": [
        {
          "output_type": "stream",
          "name": "stdout",
          "text": [
            "Enter a positive number:6\n",
            "Well done!\n"
          ]
        }
      ]
    },
    {
      "cell_type": "code",
      "source": [
        "a = int(input(\"Enter a positive number:\"))\n",
        "if a>0:\n",
        "  print(\"Well done!\")\n",
        "else:\n",
        "  print(\"Try again.\")"
      ],
      "metadata": {
        "colab": {
          "base_uri": "https://localhost:8080/"
        },
        "id": "bzHCjc48zcom",
        "outputId": "32e05cb6-85e3-4a51-81f7-3025ce3e6efb"
      },
      "execution_count": null,
      "outputs": [
        {
          "output_type": "stream",
          "name": "stdout",
          "text": [
            "Enter a positive number:-2\n",
            "Try again.\n"
          ]
        }
      ]
    },
    {
      "cell_type": "code",
      "source": [
        "age=int(input(\"enter your age\"))\n",
        "if age>18:\n",
        "  print(\"you can apply for license\")\n",
        "else:\n",
        "  print(\"not valid\")\n"
      ],
      "metadata": {
        "colab": {
          "base_uri": "https://localhost:8080/"
        },
        "id": "c1AErJ7H0CC9",
        "outputId": "30739bc4-93c3-4f2a-9e1e-92039a9f27a8"
      },
      "execution_count": null,
      "outputs": [
        {
          "output_type": "stream",
          "name": "stdout",
          "text": [
            "enter your age17\n",
            "not valid\n"
          ]
        }
      ]
    },
    {
      "cell_type": "code",
      "source": [
        "#nested-if statement\n",
        " #syntax: if Primary Condition:\n",
        "   #code\n",
        "   #if secondary condition1:\n",
        "      #code"
      ],
      "metadata": {
        "id": "-dPN2SOb0ibb"
      },
      "execution_count": null,
      "outputs": []
    },
    {
      "cell_type": "code",
      "source": [
        "gpa = int(input(\"Enter your gpa:\"))\n",
        "if gpa>7.5:\n",
        "  print(\"Congratulations!, you are eligible.\")\n",
        "  b = int(input(\"Enter no. of pending backlogs:\"))\n",
        "  if b==0:\n",
        "    print(\"Well done, Go ahead!\")\n",
        "    mat = int(input(\"Enter your matriculation percentage:\"))\n",
        "    if mat>75:\n",
        "      print(\"Just one step more.\")\n",
        "      sec = int(input(\"Enter you 12th percentage:\"))\n",
        "      if sec>60:\n",
        "        print(\"Congratulations! you are in.\")\n",
        "        print(\"Better luck next time.\")"
      ],
      "metadata": {
        "colab": {
          "base_uri": "https://localhost:8080/"
        },
        "id": "M7XRL6Sm0xTK",
        "outputId": "d3c8d25e-f022-4a67-8ab6-91322587faed"
      },
      "execution_count": null,
      "outputs": [
        {
          "output_type": "stream",
          "name": "stdout",
          "text": [
            "Enter your gpa:9\n",
            "Congratulations!, you are eligible.\n",
            "Enter no. of pending backlogs:0\n",
            "Well done, Go ahead!\n",
            "Enter your matriculation percentage:80\n",
            "Just one step more.\n",
            "Enter you 12th percentage:66\n",
            "Congratulations! you are in.\n",
            "Better luck next time.\n"
          ]
        }
      ]
    },
    {
      "cell_type": "code",
      "source": [
        "age=int(input(\"enter your age\"))\n",
        "own_car='false'\n",
        "if(age>=18):\n",
        "  if(own_car==\"true\"):\n",
        "    print(\"drive your car\")\n",
        "  else:\n",
        "      print(\"work hard and purchase a new car\")\n",
        "else:\n",
        "        print(\"not required\")"
      ],
      "metadata": {
        "colab": {
          "base_uri": "https://localhost:8080/"
        },
        "id": "S8_JEPJf1HrA",
        "outputId": "42d98050-c63b-4dda-acb0-6cd3be13405a"
      },
      "execution_count": null,
      "outputs": [
        {
          "output_type": "stream",
          "name": "stdout",
          "text": [
            "enter your age17\n",
            "not required\n"
          ]
        }
      ]
    },
    {
      "cell_type": "code",
      "source": [
        " #if-elif-else ladder:\n",
        " #syntax:\n",
        " #if condition1:\n",
        " #execute body if condition 1 is true.\n",
        " #elif condition2:\n",
        " #......\n",
        " #elif condition3:\n",
        " #.....\n",
        " #else:\n",
        " #executed if none of above conditions are satis ed.\n"
      ],
      "metadata": {
        "id": "Z9hHERU725LE"
      },
      "execution_count": null,
      "outputs": []
    },
    {
      "cell_type": "code",
      "source": [
        "n = int(input(\"Your marks:\"))\n",
        "if n>80 and n<90:\n",
        " print(\"Grade A\")\n",
        "elif n>70 and n<80:\n",
        " print(\"Grade B\")\n",
        "elif n>60 and n<70:\n",
        " print(\"Grade C\")\n",
        "elif n>50 and n<60:\n",
        " print(\"Grade D\")\n",
        "else:\n",
        " print(\"Sorry, you are not qualified.\")"
      ],
      "metadata": {
        "colab": {
          "base_uri": "https://localhost:8080/"
        },
        "id": "ktGqxE1F3wXL",
        "outputId": "5e51261a-5650-4694-a81b-e97946d85a85"
      },
      "execution_count": null,
      "outputs": [
        {
          "output_type": "stream",
          "name": "stdout",
          "text": [
            "Your marks:78\n",
            "Grade B\n"
          ]
        }
      ]
    },
    {
      "cell_type": "code",
      "source": [
        "n = int(input(\"Your marks:\"))\n",
        "if n>80 and n<90:\n",
        " print(\"Grade A\")\n",
        "elif n>70 and n<80:\n",
        " print(\"Grade B\")\n",
        "elif n>60 and n<70:\n",
        " print(\"Grade C\")\n",
        "elif n>50 and n<60:\n",
        " print(\"Grade D\")\n",
        "else:\n",
        " print(\"Sorry, you are not qualified.\")"
      ],
      "metadata": {
        "colab": {
          "base_uri": "https://localhost:8080/"
        },
        "id": "JuYTRYG335kY",
        "outputId": "4e0ab7e4-5460-42f9-c087-5ab12f866524"
      },
      "execution_count": null,
      "outputs": [
        {
          "output_type": "stream",
          "name": "stdout",
          "text": [
            "Your marks:44\n",
            "Sorry, you are not qualified.\n"
          ]
        }
      ]
    },
    {
      "cell_type": "code",
      "source": [
        "age =35\n",
        "\n",
        "if age < 13:\n",
        "    category = 'Child'\n",
        "elif age < 20:\n",
        "    category = 'Teenager'\n",
        "elif age < 65:\n",
        "    category = 'Adult'\n",
        "else:\n",
        "    category = 'Senior'\n",
        "\n",
        "print(f\"The person is classified as: {category}\")"
      ],
      "metadata": {
        "colab": {
          "base_uri": "https://localhost:8080/"
        },
        "id": "dlCXNcXM5sGn",
        "outputId": "5613b56e-f242-40bd-a963-4f6eaddd5292"
      },
      "execution_count": null,
      "outputs": [
        {
          "output_type": "stream",
          "name": "stdout",
          "text": [
            "The person is classified as: Adult\n"
          ]
        }
      ]
    },
    {
      "cell_type": "markdown",
      "source": [
        "PRACTICE QUESTIONS:\n",
        " \n",
        "\n",
        "1. You have a variable `age`. Write a conditional statement to check if `age` is greater than or equal to 18. If true, print \"You are an adult\", otherwise print \"You are a minor\".\n",
        "\n",
        "2. Given a variable `temperature`, write a conditional statement to check if `temperature` is below 0. If true, print \"It's freezing\", otherwise print \"It's not freezing\".\n",
        "\n",
        "3. You have a variable `score`. Write a conditional statement to check if `score` is greater than 90. If true, print \"Grade A\", if `score` is between 80 and 90, print \"Grade B\", otherwise print \"Grade C\".\n",
        "\n",
        "4. Given two variables `a` and `b`, write a conditional statement to check if `a` is equal to `b`. If true, print \"a and b are equal\", otherwise print \"a and b are not equal\".\n",
        "\n",
        "5. You have a variable `number`. Write a conditional statement to check if `number` is even or odd. If even, print \"Even number\", otherwise print \"Odd number\".\n",
        "\n",
        "6. Given a variable `day` which can be any day of the week, write a conditional statement to print \"Weekend\" if the day is \"Saturday\" or \"Sunday\", otherwise print \"Weekday\".\n",
        "\n",
        "7. You have a variable `marks`. Write a conditional statement to check if `marks` are greater than 75. If true, print \"Distinction\", if `marks` are between 50 and 75, print \"Pass\", otherwise print \"Fail\".\n",
        "\n",
        "8. Given a variable `speed`, write a conditional statement to check if `speed` is greater than 120. If true, print \"Over speed limit\", otherwise print \"Within speed limit\".\n",
        "\n",
        "9. You have a variable `year`. Write a conditional statement to check if `year` is a leap year. If true, print \"Leap year\", otherwise print \"Not a leap year\".\n",
        "\n",
        "10. Given a variable `char`, write a conditional statement to check if `char` is a vowel (a, e, i, o, u). If true, print \"Vowel\", otherwise print \"Consonant\".\n",
        "\n",
        "11. You have two variables `x` and `y`. Write a conditional statement to check if both `x` and `y` are positive. If true, print \"Both are positive\", otherwise print \"At least one is not positive\".\n",
        "\n",
        "12. Given a variable `time` representing the hour of the day in 24-hour format, write a conditional statement to print \"Good morning\" if `time` is between 6 and 12, \"Good afternoon\" if `time` is between 12 and 18, and \"Good evening\" if `time` is between 18 and 24.\n",
        "\n",
        "13. You have a variable `budget` and a variable `price`. Write a conditional statement to check if `budget` is greater than or equal to `price`. If true, print \"Purchase possible\", otherwise print \"Not enough budget\".\n",
        "\n",
        "14. Given a variable `username`, write a conditional statement to check if `username` is not empty. If true, print \"Username is valid\", otherwise print \"Username cannot be empty\".\n",
        "\n",
        "15. You have a variable `weight` and a variable `height`. Write a conditional statement to calculate BMI and print \"Underweight\" if BMI is less than 18.5, \"Normal weight\" if BMI is between 18.5 and 24.9, and \"Overweight\" if BMI is 25 or above.\n",
        "\n",
        "16. Given a variable `password`, write a conditional statement to check if the length of `password` is greater than or equal to 8. If true, print \"Strong password\", otherwise print \"Weak password\".\n",
        "\n",
        "17. You have a variable `grade`. Write a conditional statement to print \"Excellent\" if `grade` is 'A', \"Good\" if `grade` is 'B', \"Average\" if `grade` is 'C', and \"Poor\" if `grade` is 'D'.\n",
        "\n",
        "18. Given a variable `month`, write a conditional statement to check if `month` is \"December\", \"January\", or \"February\". If true, print \"Winter\", if `month` is \"June\", \"July\", or \"August\", print \"Summer\", otherwise print \"Other season\".\n",
        "\n",
        "19. You have a variable `balance`. Write a conditional statement to check if `balance` is greater than or equal to 1000. If true, print \"Sufficient balance\", otherwise print \"Insufficient balance\".\n",
        "\n",
        "20. Given a variable `number`, write a conditional statement to check if `number` is positive, negative, or zero. Print \"Positive\", \"Negative\", or \"Zero\" accordingly.\n",
        "\n",
        "21. You have a variable `ticket_type`. Write a conditional statement to check if `ticket_type` is \"VIP\". If true, print \"Access to VIP lounge\", otherwise print \"Regular access\".\n",
        "\n",
        "22. Given a variable `age`, write a conditional statement to print \"Eligible for senior citizen discount\" if `age` is 65 or above.\n",
        "\n",
        "23. You have a variable `color`. Write a conditional statement to print \"Stop\" if `color` is \"Red\", \"Ready\" if `color` is \"Yellow\", and \"Go\" if `color` is \"Green\".\n",
        "\n",
        "24. Given a variable `temperature`, write a conditional statement to check if `temperature` is above 100. If true, print \"Boiling point\", otherwise print \"Below boiling point\".\n",
        "\n",
        "25. You have a variable `loan_amount`. Write a conditional statement to check if `loan_amount` is greater than 50000. If true, print \"Approval requires higher authority\", otherwise print \"Loan approved\".\n",
        "\n",
        "26. Given a variable `attendance`, write a conditional statement to check if `attendance` is greater than 75%. If true, print \"Eligible to appear in exam\", otherwise print \"Not eligible to appear in exam\".\n",
        "\n",
        "27. You have a variable `membership_status`. Write a conditional statement to print \"Premium member\" if `membership_status` is \"Gold\", \"Regular member\" if `membership_status` is \"Silver\", and \"Basic member\" if `membership_status` is \"Bronze\".\n",
        "\n",
        "28. Given a variable `age`, write a conditional statement to check if `age` is between 13 and 19. If true, print \"Teenager\", otherwise print \"Not a teenager\".\n",
        "\n",
        "29. You have a variable `income`. Write a conditional statement to print \"High income\" if `income` is above 100000, \"Middle income\" if `income` is between 50000 and 100000, and \"Low income\" if `income` is below 50000.\n",
        "\n",
        "30. Given a variable `fuel_level`, write a conditional statement to check if `fuel_level` is less than 10%. If true, print \"Low fuel warning\", otherwise print \"Fuel level sufficient\"."
      ],
      "metadata": {
        "id": "rYcLtin78cqm"
      }
    }
  ]
}