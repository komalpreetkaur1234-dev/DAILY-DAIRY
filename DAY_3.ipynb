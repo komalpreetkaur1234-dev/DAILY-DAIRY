{
  "nbformat": 4,
  "nbformat_minor": 0,
  "metadata": {
    "colab": {
      "provenance": [],
      "authorship_tag": "ABX9TyNEld8gkVnWyG0mtiF3WTGs",
      "include_colab_link": true
    },
    "kernelspec": {
      "name": "python3",
      "display_name": "Python 3"
    },
    "language_info": {
      "name": "python"
    }
  },
  "cells": [
    {
      "cell_type": "markdown",
      "metadata": {
        "id": "view-in-github",
        "colab_type": "text"
      },
      "source": [
        "<a href=\"https://colab.research.google.com/github/komalpreetkaur1234-dev/DAILY-DAIRY/blob/main/DAY_3.ipynb\" target=\"_parent\"><img src=\"https://colab.research.google.com/assets/colab-badge.svg\" alt=\"Open In Colab\"/></a>"
      ]
    },
    {
      "cell_type": "markdown",
      "source": [
        "1. Create a set with the first five prime numbers."
      ],
      "metadata": {
        "id": "5f_djyP1EW3D"
      }
    },
    {
      "cell_type": "code",
      "source": [
        "prime_numbers={2,3,5,7,11}\n",
        "print(prime_numbers)"
      ],
      "metadata": {
        "colab": {
          "base_uri": "https://localhost:8080/"
        },
        "id": "ZKn0YcCaEYPH",
        "outputId": "112950d3-00ff-4901-a33d-f1679cae3c57"
      },
      "execution_count": 2,
      "outputs": [
        {
          "output_type": "stream",
          "name": "stdout",
          "text": [
            "{2, 3, 5, 7, 11}\n"
          ]
        }
      ]
    },
    {
      "cell_type": "markdown",
      "source": [
        "2. Add the number 7 to the set.\n"
      ],
      "metadata": {
        "id": "kiCrlhsCEjAh"
      }
    },
    {
      "cell_type": "code",
      "source": [
        "prime_numbers={2,3,5,7,11}\n",
        "\n",
        "prime_numbers.add(7)\n",
        "prime_numbers\n"
      ],
      "metadata": {
        "colab": {
          "base_uri": "https://localhost:8080/"
        },
        "id": "_we2VYslEqnc",
        "outputId": "3f82faf0-d070-467a-d822-134645b807f0"
      },
      "execution_count": 17,
      "outputs": [
        {
          "output_type": "execute_result",
          "data": {
            "text/plain": [
              "{2, 3, 5, 7, 11}"
            ]
          },
          "metadata": {},
          "execution_count": 17
        }
      ]
    },
    {
      "cell_type": "markdown",
      "source": [
        "3. Remove the number 3 from the set.\n"
      ],
      "metadata": {
        "id": "vgAIwqOlFoPy"
      }
    },
    {
      "cell_type": "code",
      "source": [
        "prime_numbers={2,3,5,7,11}\n",
        "prime_numbers.remove(3)\n",
        "print(prime_numbers)"
      ],
      "metadata": {
        "colab": {
          "base_uri": "https://localhost:8080/"
        },
        "id": "uqAgTcyNFtcr",
        "outputId": "2f86cf32-e63f-4f47-9573-608e53d620a3"
      },
      "execution_count": 16,
      "outputs": [
        {
          "output_type": "stream",
          "name": "stdout",
          "text": [
            "{2, 5, 7, 11}\n"
          ]
        }
      ]
    },
    {
      "cell_type": "markdown",
      "source": [
        "4. Check if the set is a subset of {2, 3, 5, 7, 11}\n"
      ],
      "metadata": {
        "id": "Nq_uyyjzF4MX"
      }
    },
    {
      "cell_type": "code",
      "source": [
        "prime_numbers={2,3,5,7,11}\n",
        "check_subset={2,3,5,7,11}\n",
        "check_subset.issubset(prime_numbers)"
      ],
      "metadata": {
        "colab": {
          "base_uri": "https://localhost:8080/"
        },
        "id": "ee2zcR2HGCzE",
        "outputId": "b42bce9a-b5fc-4ede-eedb-ceb57d4739e7"
      },
      "execution_count": 5,
      "outputs": [
        {
          "output_type": "execute_result",
          "data": {
            "text/plain": [
              "True"
            ]
          },
          "metadata": {},
          "execution_count": 5
        }
      ]
    },
    {
      "cell_type": "markdown",
      "source": [
        "\n",
        "5. Find the union of the set with {7, 11, 13}."
      ],
      "metadata": {
        "id": "ndP7grbtGVpm"
      }
    },
    {
      "cell_type": "code",
      "source": [
        "prime_numbers={2,3,5,7,11}\n",
        "new={7,11,3}\n",
        "prime_numbers.union(new)"
      ],
      "metadata": {
        "colab": {
          "base_uri": "https://localhost:8080/"
        },
        "id": "9puPljGcGX2u",
        "outputId": "23febf2c-c7a3-4d7b-e129-1c9a726bb705"
      },
      "execution_count": 6,
      "outputs": [
        {
          "output_type": "execute_result",
          "data": {
            "text/plain": [
              "{2, 3, 5, 7, 11}"
            ]
          },
          "metadata": {},
          "execution_count": 6
        }
      ]
    },
    {
      "cell_type": "markdown",
      "source": [
        "6. Create a frozen set from the original set"
      ],
      "metadata": {
        "id": "zhxj3Wy-Gqg-"
      }
    },
    {
      "cell_type": "code",
      "source": [
        "a=frozenset({1,2,3,4,})\n",
        "a"
      ],
      "metadata": {
        "colab": {
          "base_uri": "https://localhost:8080/"
        },
        "id": "1CFHFHdxJ8vo",
        "outputId": "dfce98e1-3cbc-443f-b9e8-cf6b6ae6f834"
      },
      "execution_count": 18,
      "outputs": [
        {
          "output_type": "execute_result",
          "data": {
            "text/plain": [
              "frozenset({1, 2, 3, 4})"
            ]
          },
          "metadata": {},
          "execution_count": 18
        }
      ]
    },
    {
      "cell_type": "markdown",
      "source": [
        "7. Check if the set has any common elements with {1, 4, 9}.\n"
      ],
      "metadata": {
        "id": "2REUujYzGsBJ"
      }
    },
    {
      "cell_type": "code",
      "source": [
        "prime_numbers={2,3,5,7,11}\n",
        "check_common={1,4,9}\n",
        "prime_numbers.intersection(check_common)"
      ],
      "metadata": {
        "colab": {
          "base_uri": "https://localhost:8080/"
        },
        "id": "dK4ejQNKG2Wc",
        "outputId": "befe0e6a-2c30-4ebd-cbfb-2b38dea86fb9"
      },
      "execution_count": 7,
      "outputs": [
        {
          "output_type": "execute_result",
          "data": {
            "text/plain": [
              "set()"
            ]
          },
          "metadata": {},
          "execution_count": 7
        }
      ]
    },
    {
      "cell_type": "markdown",
      "source": [
        "8. Remove all elements from the set.\n"
      ],
      "metadata": {
        "id": "x_oeobUMHOKA"
      }
    },
    {
      "cell_type": "code",
      "source": [
        "set={2,3,5,7,11}\n",
        "set.clear()"
      ],
      "metadata": {
        "id": "SdAH1XYALh9u"
      },
      "execution_count": 24,
      "outputs": []
    },
    {
      "cell_type": "markdown",
      "source": [
        "9. Create a set of your favorite fruits and find the intersection with { 'apple', 'banana', 'orange' }.\n"
      ],
      "metadata": {
        "id": "gBIChaSJHRxu"
      }
    },
    {
      "cell_type": "code",
      "source": [
        "my_fav_fruits={'mango','apple','stawberry'}\n",
        "fruits={ 'apple', 'banana', 'orange' }\n",
        "my_fav_fruits.intersection(fruits)"
      ],
      "metadata": {
        "colab": {
          "base_uri": "https://localhost:8080/"
        },
        "id": "oLwhfbx8HWy1",
        "outputId": "2520553a-75b9-4361-915f-ed4dfe2d8925"
      },
      "execution_count": 8,
      "outputs": [
        {
          "output_type": "execute_result",
          "data": {
            "text/plain": [
              "{'apple'}"
            ]
          },
          "metadata": {},
          "execution_count": 8
        }
      ]
    },
    {
      "cell_type": "markdown",
      "source": [
        "10. Use set comprehension to create a set of squares for numbers 1 to 10."
      ],
      "metadata": {
        "id": "7CFUh8fMH0kx"
      }
    },
    {
      "cell_type": "code",
      "source": [
        "squares = {4}\n",
        "print(squares)"
      ],
      "metadata": {
        "colab": {
          "base_uri": "https://localhost:8080/"
        },
        "id": "SBL1sTxzH1ZS",
        "outputId": "1992921a-dfc6-4ef3-9fca-0e79640c1c68"
      },
      "execution_count": 25,
      "outputs": [
        {
          "output_type": "stream",
          "name": "stdout",
          "text": [
            "{64, 1, 4, 36, 100, 9, 16, 49, 81, 25}\n"
          ]
        }
      ]
    }
  ]
}