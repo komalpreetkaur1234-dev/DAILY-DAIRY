{
  "nbformat": 4,
  "nbformat_minor": 0,
  "metadata": {
    "colab": {
      "provenance": [],
      "include_colab_link": true
    },
    "kernelspec": {
      "name": "python3",
      "display_name": "Python 3"
    },
    "language_info": {
      "name": "python"
    }
  },
  "cells": [
    {
      "cell_type": "markdown",
      "metadata": {
        "id": "view-in-github",
        "colab_type": "text"
      },
      "source": [
        "<a href=\"https://colab.research.google.com/github/komalpreetkaur1234-dev/DAILY-DAIRY/blob/main/python_data_types1(lists).ipynb\" target=\"_parent\"><img src=\"https://colab.research.google.com/assets/colab-badge.svg\" alt=\"Open In Colab\"/></a>"
      ]
    },
    {
      "cell_type": "markdown",
      "source": [
        "# **LISTS IN PYTHON**"
      ],
      "metadata": {
        "id": "I8iOUSQocNMw"
      }
    },
    {
      "cell_type": "markdown",
      "source": [
        "Lists are used to store multiple items in a single variable.\n",
        "\n",
        "Lists are one of 4 built-in data types in Python used to store collections of data, the other 3 are Tuple, Set, and Dictionary, all with different qualities and usage.\n",
        "\n",
        "Lists are created using square brackets:\n",
        "\n"
      ],
      "metadata": {
        "id": "kqOgznPTcYvA"
      }
    },
    {
      "cell_type": "code",
      "source": [
        "#Example\n",
        "#Create a List:\n",
        "FRUITS = [\"apple\", \"banana\", \"cherry\"]\n",
        "print(FRUITS)"
      ],
      "metadata": {
        "colab": {
          "base_uri": "https://localhost:8080/"
        },
        "id": "Kfh4m_KGc3R_",
        "outputId": "443eca64-51cd-4cd6-bf9c-30717eeeaa7d"
      },
      "execution_count": null,
      "outputs": [
        {
          "output_type": "stream",
          "name": "stdout",
          "text": [
            "['apple', 'banana', 'cherry']\n"
          ]
        }
      ]
    },
    {
      "cell_type": "code",
      "source": [
        "Students = []\n",
        "Students"
      ],
      "metadata": {
        "colab": {
          "base_uri": "https://localhost:8080/"
        },
        "id": "RCA-d01uXRCA",
        "outputId": "064eb35c-db7d-42f5-aed3-11f1bd28d73c"
      },
      "execution_count": null,
      "outputs": [
        {
          "output_type": "execute_result",
          "data": {
            "text/plain": [
              "[]"
            ]
          },
          "metadata": {},
          "execution_count": 19
        }
      ]
    },
    {
      "cell_type": "markdown",
      "source": [
        "Some of the more relevant characteristics of list objects include being:\n",
        "\n",
        "**Ordered:** They contain elements or items that are sequentially arranged according to their specific insertion order.\n",
        "\n",
        "**Zero-based:** They allow you to access their elements by indices that start from zero.\n",
        "\n",
        "**Mutable:** They support in-place mutations or changes to their contained elements.\n",
        "\n",
        "**Heterogeneous:** They can store objects of different types.\n",
        "\n",
        "**Growable and dynamic:** They can grow or shrink dynamically, which means that they support the addition, insertion, and removal of elements.\n",
        "\n",
        "**Nestable:** They can contain other lists, so you can have lists of lists.\n",
        "\n",
        "**Iterable:** They support iteration, so you can traverse them using a loop or comprehension while you perform operations on each of their elements.\n",
        "\n",
        "**Sliceable:** They support slicing operations, meaning that you can extract a series of elements from them.\n",
        "\n",
        "**Combinable:** They support concatenation operations, so you can combine two or more lists using the concatenation operators.\n",
        "\n",
        "**Copyable:** They allow you to make copies of their content using various techniques.\n",
        "\n",
        "\n",
        "Lists are sequences of objects. They’re commonly called containers or collections because a single list can contain or collect an arbitrary number of other objects."
      ],
      "metadata": {
        "id": "r-J_MwxWETwg"
      }
    },
    {
      "cell_type": "markdown",
      "source": [
        "\n",
        "List Items\n",
        "List items are ordered, changeable, and allow duplicate values.\n",
        "\n",
        "List items are indexed, the first item has index [0], the second item has index [1] etc, the third item has index [2] etc.\n",
        "\n",
        "# ORDERED\n",
        "When we say that lists are ordered, it means that the items have a defined order, and that order will not change.\n",
        "If you add new items to a list, the new items will be placed at the end of the list.\n",
        "\n",
        "***Note: There are some list methods that will change the order, but in general: the order of the items will not change.***\n",
        "\n",
        "#Changeable\n",
        "The list is changeable, meaning that we can change, add, and remove items in a list after it has been created.\n",
        "\n",
        "#Allow Duplicates\n",
        "Since lists are indexed, lists can have items with the same value:"
      ],
      "metadata": {
        "id": "WwoLgcLzc-CQ"
      }
    },
    {
      "cell_type": "code",
      "source": [
        "#Example\n",
        "#Lists allow duplicate values:\n",
        "\n",
        "my_list = [\"apple\", \"banana\", \"cherry\", \"apple\", \"cherry\"]\n",
        "print(my_list)"
      ],
      "metadata": {
        "colab": {
          "base_uri": "https://localhost:8080/"
        },
        "id": "lEzSygc7dwBJ",
        "outputId": "c3d52b24-5f3b-489f-d182-c25a3a24808c"
      },
      "execution_count": null,
      "outputs": [
        {
          "output_type": "stream",
          "name": "stdout",
          "text": [
            "['apple', 'banana', 'cherry', 'apple', 'cherry']\n"
          ]
        }
      ]
    },
    {
      "cell_type": "code",
      "source": [
        "len(my_list)"
      ],
      "metadata": {
        "colab": {
          "base_uri": "https://localhost:8080/"
        },
        "id": "JxSFxm3MYBgn",
        "outputId": "2a73447e-c210-47f3-b718-8146ca00c8a5"
      },
      "execution_count": null,
      "outputs": [
        {
          "output_type": "execute_result",
          "data": {
            "text/plain": [
              "5"
            ]
          },
          "metadata": {},
          "execution_count": 22
        }
      ]
    },
    {
      "cell_type": "markdown",
      "source": [
        "List Length:\n",
        "To determine how many items a list has, use the **len()** function:"
      ],
      "metadata": {
        "id": "MO2kKxEHd_KB"
      }
    },
    {
      "cell_type": "code",
      "source": [
        "#Example\n",
        "#Print the number of items in the list:\n",
        "\n",
        "UNI = [\"CTU\", \"KTU\", \"DTU\"]\n",
        "print(len(UNI))"
      ],
      "metadata": {
        "colab": {
          "base_uri": "https://localhost:8080/"
        },
        "id": "CwMd7Z3Hd5pz",
        "outputId": "693fef81-f282-42aa-fb60-8cfda07f970b"
      },
      "execution_count": null,
      "outputs": [
        {
          "output_type": "stream",
          "name": "stdout",
          "text": [
            "3\n"
          ]
        }
      ]
    },
    {
      "cell_type": "markdown",
      "source": [
        "List Items - Data Types\n",
        "List items can be of any data type:"
      ],
      "metadata": {
        "id": "jKQlwKtzee1D"
      }
    },
    {
      "cell_type": "markdown",
      "source": [
        "It is also possible to use the list() constructor when creating a new list."
      ],
      "metadata": {
        "id": "gCc_-kvlMO2u"
      }
    },
    {
      "cell_type": "code",
      "source": [
        "#Example\n",
        "#Using the list() constructor to make a List:\n",
        "thislist = list((\"apple\", \"banana\", \"cherry\")) # note the double round-brackets\n",
        "print(thislist)"
      ],
      "metadata": {
        "colab": {
          "base_uri": "https://localhost:8080/"
        },
        "id": "PmnxTVFJMQ6n",
        "outputId": "11f47ca3-0e12-4634-c138-c8e4540ea7ee"
      },
      "execution_count": null,
      "outputs": [
        {
          "output_type": "stream",
          "name": "stdout",
          "text": [
            "['apple', 'banana', 'cherry']\n"
          ]
        }
      ]
    },
    {
      "cell_type": "markdown",
      "source": [
        "![image.png](data:image/png;base64,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)"
      ],
      "metadata": {
        "id": "Iz2FS6HSDq6c"
      }
    },
    {
      "cell_type": "code",
      "source": [
        "#LIST METHODS\n",
        "#APPEND: Used to new elements to the end of an existing list.\n",
        "#syntax = list_name.append(\"item\")\n",
        "\n",
        "UNI = [\"CTU\", \"KTU\", \"DTU\"]\n",
        "UNI.append(\"CU\")\n",
        "print(UNI)\n"
      ],
      "metadata": {
        "colab": {
          "base_uri": "https://localhost:8080/"
        },
        "id": "n7KYdbxBMgU9",
        "outputId": "fc1ad686-5fc5-4a59-c548-0184a18fd1a8"
      },
      "execution_count": null,
      "outputs": [
        {
          "output_type": "stream",
          "name": "stdout",
          "text": [
            "['CTU', 'KTU', 'DTU', 'CU']\n"
          ]
        }
      ]
    },
    {
      "cell_type": "code",
      "source": [
        "#appending another list at the end of one list\n",
        "# we can also append another list in an already existing list in order to make nested lists.\n",
        "#syntax = list1_name.append(list2_name)\n",
        "UNI = [\"CTU\", \"KTU\", \"DTU\"]\n",
        "Courses = [\"BCA\", \"MCA\"]\n",
        "UNI.append(Courses)\n",
        "print(UNI)\n"
      ],
      "metadata": {
        "colab": {
          "base_uri": "https://localhost:8080/"
        },
        "id": "trX-zD9TVyhD",
        "outputId": "a61dca94-e1bb-4f9f-9ee0-99a45564f907"
      },
      "execution_count": null,
      "outputs": [
        {
          "output_type": "stream",
          "name": "stdout",
          "text": [
            "['CTU', 'KTU', 'DTU', ['BCA', 'MCA']]\n"
          ]
        }
      ]
    },
    {
      "cell_type": "code",
      "source": [
        "#clear() method: It removes all the elements from the list, meaning makes the list empty.\n",
        "\n",
        "#syntax = list_name.clear()\n",
        "UNI = [\"CTU\", \"KTU\", \"DTU\"]\n",
        "UNI.clear()\n",
        "print(UNI)"
      ],
      "metadata": {
        "colab": {
          "base_uri": "https://localhost:8080/"
        },
        "id": "uTGQ1F_aWG2h",
        "outputId": "683d82b3-140f-4ef2-8431-19725f6c7a53"
      },
      "execution_count": null,
      "outputs": [
        {
          "output_type": "stream",
          "name": "stdout",
          "text": [
            "[]\n"
          ]
        }
      ]
    },
    {
      "cell_type": "code",
      "source": [
        "#copy() method: It creates another copy of existing list.\n",
        "UNI = [\"CTU\", \"KTU\", \"DTU\"]\n",
        "print( UNI.copy())\n",
        "\n",
        "colleges = UNI.copy()\n",
        "print(colleges)\n"
      ],
      "metadata": {
        "colab": {
          "base_uri": "https://localhost:8080/"
        },
        "id": "5-hiZT8sWYSg",
        "outputId": "cb178b66-305d-4486-b779-ec77576701e3"
      },
      "execution_count": null,
      "outputs": [
        {
          "output_type": "stream",
          "name": "stdout",
          "text": [
            "['CTU', 'KTU', 'DTU']\n",
            "['CTU', 'KTU', 'DTU']\n"
          ]
        }
      ]
    },
    {
      "cell_type": "code",
      "source": [
        "#count(): it counts the occurrence of particular element in a list\n",
        "#syntax = list_name.count(\"element\")\n",
        "UNI = [\"CTU\", \"KTU\", \"DTU\", \"CTU\"]\n",
        "UNI.count(\"CTU\")\n"
      ],
      "metadata": {
        "colab": {
          "base_uri": "https://localhost:8080/"
        },
        "id": "Fp8pfJJ0Ws2r",
        "outputId": "bf79fc88-5f8c-4213-a6d7-e819c96a7fc3"
      },
      "execution_count": null,
      "outputs": [
        {
          "output_type": "execute_result",
          "data": {
            "text/plain": [
              "2"
            ]
          },
          "metadata": {},
          "execution_count": 7
        }
      ]
    },
    {
      "cell_type": "code",
      "source": [
        "#extend() method: It is used to concatenate 2 existing lists().\n",
        "UNI = [\"CTU\", \"KTU\", \"DTU\", \"CTU\"]\n",
        "UNI2 = [\"CU\", \"PU\"]\n",
        "UNI2.extend(UNI)\n",
        "print(UNI2)"
      ],
      "metadata": {
        "colab": {
          "base_uri": "https://localhost:8080/"
        },
        "id": "6-0KX_qkXGE2",
        "outputId": "d720d17a-718b-44c7-9531-0488bcfb6839"
      },
      "execution_count": null,
      "outputs": [
        {
          "output_type": "stream",
          "name": "stdout",
          "text": [
            "['CU', 'PU', 'CTU', 'KTU', 'DTU', 'CTU']\n"
          ]
        }
      ]
    },
    {
      "cell_type": "code",
      "source": [
        "#index() method : It returns the index no. of first occurrence of a particular element from the list.\n",
        "\n",
        "UNI2.index(\"KTU\")"
      ],
      "metadata": {
        "colab": {
          "base_uri": "https://localhost:8080/"
        },
        "id": "ulyt3V0IYFHf",
        "outputId": "fc41d930-fe5e-48bc-a909-5852ce7e685d"
      },
      "execution_count": null,
      "outputs": [
        {
          "output_type": "execute_result",
          "data": {
            "text/plain": [
              "3"
            ]
          },
          "metadata": {},
          "execution_count": 14
        }
      ]
    },
    {
      "cell_type": "code",
      "source": [
        "#insert() method: This method is used to add new element at a particular index to an existing list.\n",
        "#syntax = list_name.insert(index, \"item\")\n",
        "\n",
        "UNI2.insert(1,\"PUJNABI UNIVERSITY\")\n",
        "UNI2"
      ],
      "metadata": {
        "colab": {
          "base_uri": "https://localhost:8080/"
        },
        "id": "Io_m9LbuYPLv",
        "outputId": "c1695795-ee46-4c51-d75f-081af1b3d687"
      },
      "execution_count": null,
      "outputs": [
        {
          "output_type": "execute_result",
          "data": {
            "text/plain": [
              "['CU', 'PUJNABI UNIVERSITY']"
            ]
          },
          "metadata": {},
          "execution_count": 22
        }
      ]
    },
    {
      "cell_type": "code",
      "source": [
        "#pop() method: by default used to remove last element from the list.\n",
        "# but can also be used to remove a particular element by providing its index.\n",
        "FUR = [\"TABLE\", \"CHAIR\", \"STOOL\", \"BED\"]\n",
        "FUR.pop()\n",
        "FUR\n",
        "FUR.pop(2)\n",
        "print(FUR)\n"
      ],
      "metadata": {
        "colab": {
          "base_uri": "https://localhost:8080/"
        },
        "id": "Opd9sbZuYofZ",
        "outputId": "f711cdcf-980e-4677-cb09-32878ea60b81"
      },
      "execution_count": null,
      "outputs": [
        {
          "output_type": "stream",
          "name": "stdout",
          "text": [
            "['TABLE', 'CHAIR']\n"
          ]
        }
      ]
    },
    {
      "cell_type": "code",
      "source": [
        "#remove() : It is also used to remove an element from an existing list like pop() method. But the difference is that it takes element itself as arguement.\n",
        "FUR = [\"TABLE\", \"CHAIR\", \"STOOL\", \"BED\"]\n",
        "FUR.remove(\"CHAIR\")\n",
        "FUR"
      ],
      "metadata": {
        "colab": {
          "base_uri": "https://localhost:8080/"
        },
        "id": "gKb-7jcxZnya",
        "outputId": "d4666fa3-034e-4314-e24f-faffd41c4afa"
      },
      "execution_count": null,
      "outputs": [
        {
          "output_type": "execute_result",
          "data": {
            "text/plain": [
              "['TABLE', 'STOOL', 'BED']"
            ]
          },
          "metadata": {},
          "execution_count": 31
        }
      ]
    },
    {
      "cell_type": "code",
      "source": [
        "#reverse method\n",
        "FUR = [\"TABLE\", \"CHAIR\", \"STOOL\", \"BED\"]\n",
        "FUR.reverse()\n",
        "FUR"
      ],
      "metadata": {
        "colab": {
          "base_uri": "https://localhost:8080/"
        },
        "id": "JFcKfC-sbGhK",
        "outputId": "41e9954b-faa2-425a-f789-9287b887f378"
      },
      "execution_count": null,
      "outputs": [
        {
          "output_type": "execute_result",
          "data": {
            "text/plain": [
              "['BED', 'STOOL', 'CHAIR', 'TABLE']"
            ]
          },
          "metadata": {},
          "execution_count": 33
        }
      ]
    },
    {
      "cell_type": "code",
      "source": [
        "#sorting a list\n",
        "\n",
        "# by using sort() method\n",
        "FUR.sort()\n",
        "print(FUR)\n",
        "\n",
        "#by using sorted() function\n",
        "FUR = [\"TABLE\", \"CHAIR\", \"STOOL\", \"BED\"]\n",
        "print(sorted(FUR))"
      ],
      "metadata": {
        "colab": {
          "base_uri": "https://localhost:8080/"
        },
        "id": "cles1Iv5bXtv",
        "outputId": "cbedbfc8-68da-4837-951b-febbc1dbeb2b"
      },
      "execution_count": null,
      "outputs": [
        {
          "output_type": "stream",
          "name": "stdout",
          "text": [
            "['CHAIR', 'TABLE']\n",
            "['BED', 'CHAIR', 'STOOL', 'TABLE']\n"
          ]
        }
      ]
    },
    {
      "cell_type": "code",
      "source": [
        "FUR[1]"
      ],
      "metadata": {
        "colab": {
          "base_uri": "https://localhost:8080/",
          "height": 36
        },
        "id": "rQpEyOY_bKNE",
        "outputId": "3602779b-5ebd-4f3d-e5c7-c3caff16554b"
      },
      "execution_count": null,
      "outputs": [
        {
          "output_type": "execute_result",
          "data": {
            "text/plain": [
              "'CHAIR'"
            ],
            "application/vnd.google.colaboratory.intrinsic+json": {
              "type": "string"
            }
          },
          "metadata": {},
          "execution_count": 23
        }
      ]
    },
    {
      "cell_type": "markdown",
      "source": [
        "In general, you should use lists when you need to:\n",
        "\n",
        "**Keep your data ordered:** Lists maintain the order of insertion of their items.\n",
        "\n",
        "**Store a sequence of values:** Lists are a great choice when you need to store a sequence of related values.\n",
        "\n",
        "**Mutate your data:** Lists are mutable data types that support multiple mutations.\n",
        "\n",
        "**Access random values by index**: Lists allow quick and easy access to elements based on their index.\n",
        "\n",
        "In contrast, avoid using lists when you need to:\n",
        "\n",
        "**Store immutable data:** In this case, you should use a tuple. They’re immutable and more memory efficient.\n",
        "\n",
        "**Represent database records:** In this case, consider using a tuple or a data class.\n",
        "\n",
        "**Store unique and unordered values**: In this scenario, consider using a set or dictionary. Sets don’t allow duplicated values, and dictionaries can’t hold duplicated keys.\n"
      ],
      "metadata": {
        "id": "eM4TLVj3FIlA"
      }
    },
    {
      "cell_type": "markdown",
      "source": [
        "# **LIST SLICING**:\n",
        "\n",
        "List slicing in Python allows you to extract a portion of a list by specifying a range of indices. The general syntax for list slicing is:\n",
        "\n",
        "    list[start:stop:step]\n",
        "\n",
        "**start:** The index where the slice begins (inclusive). If omitted, it defaults to the beginning of the list.\n",
        "\n",
        "**stop:** The index where the slice ends (exclusive). If omitted, it defaults to the end of the list.\n",
        "\n",
        "**step:** The step size, which determines how many items to skip between indices. If omitted, it defaults to 1.\n"
      ],
      "metadata": {
        "id": "pA_HnkpHD76v"
      }
    },
    {
      "cell_type": "markdown",
      "source": [
        "Here are some examples to illustrate list slicing:"
      ],
      "metadata": {
        "id": "lakH8bBKEcJ5"
      }
    },
    {
      "cell_type": "code",
      "source": [
        "#example 1\n",
        "numbers = [1, 2, 3, 4, 5, 6, 7, 8, 9]\n",
        "\n",
        "# Extracting a slice from index 2 to 5 (exclusive)\n",
        "slice1 = numbers[2:6]\n",
        "print(slice1)\n"
      ],
      "metadata": {
        "colab": {
          "base_uri": "https://localhost:8080/"
        },
        "id": "rZ9D7gWNEbG7",
        "outputId": "6323564f-7ef1-4b89-a3ed-93f8a5dd28db"
      },
      "execution_count": null,
      "outputs": [
        {
          "output_type": "stream",
          "name": "stdout",
          "text": [
            "[3, 4, 5, 6]\n"
          ]
        }
      ]
    },
    {
      "cell_type": "code",
      "source": [
        "#Example 2: Omitting start and stop\n",
        "# Omitting start, defaults to the beginning of the list\n",
        "slice2 = numbers[:4]\n",
        "print(slice2)\n",
        "\n",
        "# Omitting stop, defaults to the end of the list\n",
        "slice3 = numbers[5:]\n",
        "print(slice3)\n"
      ],
      "metadata": {
        "colab": {
          "base_uri": "https://localhost:8080/"
        },
        "id": "MyylfqrsEnbT",
        "outputId": "ce398815-c6cf-4146-9b4e-95a6c905b83e"
      },
      "execution_count": null,
      "outputs": [
        {
          "output_type": "stream",
          "name": "stdout",
          "text": [
            "[1, 2, 3, 4]\n",
            "[6, 7, 8, 9]\n"
          ]
        }
      ]
    },
    {
      "cell_type": "code",
      "source": [
        "#Example 3: Using a Negative Index\n",
        "# Negative index, counts from the end of the list\n",
        "slice4 = numbers[-5:]\n",
        "print(slice4)\n",
        "\n",
        "slice5 = numbers[:-3]\n",
        "print(slice5)"
      ],
      "metadata": {
        "colab": {
          "base_uri": "https://localhost:8080/"
        },
        "id": "5G8YEXShEvQF",
        "outputId": "08da383f-a738-4e5b-81e6-5e40986b9f24"
      },
      "execution_count": null,
      "outputs": [
        {
          "output_type": "stream",
          "name": "stdout",
          "text": [
            "[5, 6, 7, 8, 9]\n",
            "[1, 2, 3, 4, 5, 6]\n"
          ]
        }
      ]
    },
    {
      "cell_type": "code",
      "source": [
        "#Example 4: Step Parameter\n",
        "\n",
        "# Using step to get every second item\n",
        "slice6 = numbers[::2]\n",
        "print(slice6)\n",
        "# Using step to get every third item\n",
        "slice7 = numbers[1::3]\n",
        "print(slice7)\n"
      ],
      "metadata": {
        "colab": {
          "base_uri": "https://localhost:8080/"
        },
        "id": "JXU-0_fXE1OQ",
        "outputId": "4e11123a-834b-4251-bd4c-26f7fa8a3933"
      },
      "execution_count": null,
      "outputs": [
        {
          "output_type": "stream",
          "name": "stdout",
          "text": [
            "[1, 3, 5, 7, 9]\n",
            "[2, 5, 8]\n"
          ]
        }
      ]
    },
    {
      "cell_type": "code",
      "source": [
        "#Example 5: Negative Step\n",
        "\n",
        "# Using negative step to reverse the list\n",
        "slice8 = numbers[::-1]\n",
        "print(slice8)\n",
        "\n",
        "# Using negative step to get every second item in reverse\n",
        "slice9 = numbers[8:2:-2]\n",
        "print(slice9)\n"
      ],
      "metadata": {
        "colab": {
          "base_uri": "https://localhost:8080/"
        },
        "id": "hJbLh15iE9Dg",
        "outputId": "0d8807c7-4282-4898-979a-65afc0a823b2"
      },
      "execution_count": null,
      "outputs": [
        {
          "output_type": "stream",
          "name": "stdout",
          "text": [
            "[9, 8, 7, 6, 5, 4, 3, 2, 1]\n",
            "[9, 7, 5]\n"
          ]
        }
      ]
    },
    {
      "cell_type": "code",
      "source": [
        "#Example 6: Advanced Slicing\n",
        "# Extracting a middle portion with a step\n",
        "slice10 = numbers[2:8:2]\n",
        "print(slice10)\n"
      ],
      "metadata": {
        "colab": {
          "base_uri": "https://localhost:8080/"
        },
        "id": "ndYfg0_lFPDV",
        "outputId": "03162541-b09a-4081-ef98-daf4b265c9c2"
      },
      "execution_count": null,
      "outputs": [
        {
          "output_type": "stream",
          "name": "stdout",
          "text": [
            "[3, 5, 7]\n"
          ]
        }
      ]
    },
    {
      "cell_type": "code",
      "source": [
        "#Example 7: Slicing with an Empty Result\n",
        "# When the start index is greater than or equal to the stop index\n",
        "slice11 = numbers[5:2]\n",
        "print(slice11)\n",
        "\n",
        "# When the step is negative but start is less than stop\n",
        "slice12 = numbers[2:5:-1]\n",
        "print(slice12)\n"
      ],
      "metadata": {
        "colab": {
          "base_uri": "https://localhost:8080/"
        },
        "id": "5VuF6ppbFXyR",
        "outputId": "538e0eb6-e3a9-4d46-9989-54e967f745e9"
      },
      "execution_count": null,
      "outputs": [
        {
          "output_type": "stream",
          "name": "stdout",
          "text": [
            "[]\n",
            "[]\n"
          ]
        }
      ]
    },
    {
      "cell_type": "markdown",
      "source": [
        "# **PRACTICE QUESTIONS**\n",
        "\n",
        "Q.1 colors = ['red', 'blue', 'green', 'yellow']\n",
        "\n",
        "Using the colors list defined above, print the:\n",
        "\n",
        "First element,\n",
        "Second element,\n",
        "Last element,\n",
        "Second-to-last element,\n",
        "Second and third elements,\n",
        "Element at index 4.\n",
        "\n",
        "Q.2 Below is a list with seven integer values representing the daily water level (in cm) in an imaginary lake. However, there is a mistake in the data. The third day’s water level should be 693. Correct the mistake and print the changed list.\n",
        "\n",
        "water_level = [730, 709, 682, 712, 733, 751, 740]\n",
        "\n",
        "Q.3 Add the data for the eighth day to the list from above. The water level was 772 cm on that day. Print the list contents afterwards.\n",
        "\n",
        "Q.4 Still using the same list, add three consecutive days using a single instruction. The water levels on the 9th through 11th days were 772 cm, 770 cm, and 745 cm. Add these values and then print the whole list.\n",
        "\n",
        "Q.5 There are two ways to delete data from a list: by using the index or by using the value. Start with the original water_level list we defined in the second exercise and delete the first element using its index. Then define the list again and delete the first element using its value.\n",
        "\n"
      ],
      "metadata": {
        "id": "bojJjrmbUI1t"
      }
    }
  ]
}