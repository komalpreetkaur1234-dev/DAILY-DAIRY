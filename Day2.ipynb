{
  "nbformat": 4,
  "nbformat_minor": 0,
  "metadata": {
    "colab": {
      "provenance": [],
      "include_colab_link": true
    },
    "kernelspec": {
      "name": "python3",
      "display_name": "Python 3"
    },
    "language_info": {
      "name": "python"
    }
  },
  "cells": [
    {
      "cell_type": "markdown",
      "metadata": {
        "id": "view-in-github",
        "colab_type": "text"
      },
      "source": [
        "<a href=\"https://colab.research.google.com/github/komalpreetkaur1234-dev/DAILY-DAIRY/blob/main/Day2.ipynb\" target=\"_parent\"><img src=\"https://colab.research.google.com/assets/colab-badge.svg\" alt=\"Open In Colab\"/></a>"
      ]
    },
    {
      "cell_type": "markdown",
      "source": [
        "Q.1 colors = ['red', 'blue', 'green', 'yellow']\n",
        "Using the colors list defined above, print the:\n",
        "First element, Second element, Last element, Second-to-last element, Second and third elements, Element at index 4."
      ],
      "metadata": {
        "id": "jFYksqXl63wD"
      }
    },
    {
      "cell_type": "code",
      "source": [
        "colors = ['red', 'blue', 'green', 'yellow']\n",
        "\n",
        "print(colors[0])\n",
        "print(colors[1])\n",
        "print(colors[-1])\n",
        "print(colors[-2])\n",
        "\n",
        "print(colors[1:3])\n",
        "\n",
        "try:\n",
        "  print(colors[4])\n",
        "except IndexError:\n",
        "  print(\"Index out of range\")"
      ],
      "metadata": {
        "colab": {
          "base_uri": "https://localhost:8080/"
        },
        "id": "mWiIL-jv1aQu",
        "outputId": "a5f5a314-4355-4f2c-c86f-7dcfb39a9390"
      },
      "execution_count": null,
      "outputs": [
        {
          "output_type": "stream",
          "name": "stdout",
          "text": [
            "red\n",
            "blue\n",
            "yellow\n",
            "green\n",
            "['blue', 'green']\n",
            "Index out of range\n"
          ]
        }
      ]
    },
    {
      "cell_type": "markdown",
      "source": [
        "Q.2 Below is a list with seven integer values representing the daily water level (in cm) in an imaginary lake. However, there is a mistake in the data. The third day’s water level should be 693. Correct the mistake and print the changed list.\n",
        "water_level = [730, 709, 682, 712, 733, 751, 740]"
      ],
      "metadata": {
        "id": "vQlYohbC6zqC"
      }
    },
    {
      "cell_type": "code",
      "source": [
        "water_level = [730, 709, 682, 712, 733, 751, 740]\n",
        "water_level[2] = 693\n",
        "print(water_level)"
      ],
      "metadata": {
        "colab": {
          "base_uri": "https://localhost:8080/"
        },
        "id": "DAPYwBqA6nUo",
        "outputId": "c8e0b163-cf46-4de2-98fb-1a9e2db48fad"
      },
      "execution_count": null,
      "outputs": [
        {
          "output_type": "stream",
          "name": "stdout",
          "text": [
            "[730, 709, 693, 712, 733, 751, 740]\n"
          ]
        }
      ]
    },
    {
      "cell_type": "markdown",
      "source": [
        "water_level = [730, 709, 682, 712, 733, 751, 740]\n",
        "Q.3 Add the data for the eighth day to the list from above. The water level was 772 cm on that day. Print the list contents afterwards."
      ],
      "metadata": {
        "id": "gGwHjwKM7SUC"
      }
    },
    {
      "cell_type": "code",
      "source": [
        "water_level = [730, 709, 682, 712, 733, 751, 740]\n",
        "water_level.append(772)\n",
        "print(water_level)"
      ],
      "metadata": {
        "colab": {
          "base_uri": "https://localhost:8080/"
        },
        "id": "ZqrOFX1Z6yXt",
        "outputId": "313844a1-9759-4815-b2ee-82c6cee379f9"
      },
      "execution_count": null,
      "outputs": [
        {
          "output_type": "stream",
          "name": "stdout",
          "text": [
            "[730, 709, 682, 712, 733, 751, 740, 772]\n"
          ]
        }
      ]
    },
    {
      "cell_type": "markdown",
      "source": [
        "Q.4 Still using the same list, add three consecutive days using a single instruction. The water levels on the 9th through 11th days were 772 cm, 770 cm, and 745 cm. Add these values and then print the whole list."
      ],
      "metadata": {
        "id": "YpwZ0sxo7a-v"
      }
    },
    {
      "cell_type": "code",
      "source": [
        "water_level.extend([772, 770, 745])\n",
        "print(water_level)"
      ],
      "metadata": {
        "colab": {
          "base_uri": "https://localhost:8080/"
        },
        "id": "EmGMBLjb7bgl",
        "outputId": "87508002-0950-4260-af16-15290f3afabb"
      },
      "execution_count": null,
      "outputs": [
        {
          "output_type": "stream",
          "name": "stdout",
          "text": [
            "[730, 709, 682, 712, 733, 751, 740, 772, 772, 770, 745]\n"
          ]
        }
      ]
    },
    {
      "cell_type": "markdown",
      "source": [
        "Q.5 There are two ways to delete data from a list: by using the index or by using the value. Start with the original water_level list we defined in the second exercise and delete the first element using its index. Then define the list again and delete the first element using its value."
      ],
      "metadata": {
        "id": "nivGTZoV7ikJ"
      }
    },
    {
      "cell_type": "code",
      "source": [
        "water_level = [730, 709, 682, 712, 733, 751, 740]\n",
        "water_level.pop(0)\n",
        "print(water_level)\n",
        "\n",
        "water_level = [730, 709, 682, 712, 733, 751, 740]\n",
        "water_level.remove(730)\n",
        "print(water_level)"
      ],
      "metadata": {
        "colab": {
          "base_uri": "https://localhost:8080/"
        },
        "id": "AtIJGwyV7h5T",
        "outputId": "d7c00da1-6144-4aeb-a8c9-c2643d86dd22"
      },
      "execution_count": null,
      "outputs": [
        {
          "output_type": "stream",
          "name": "stdout",
          "text": [
            "[709, 682, 712, 733, 751, 740]\n",
            "[709, 682, 712, 733, 751, 740]\n"
          ]
        }
      ]
    },
    {
      "cell_type": "markdown",
      "source": [
        " Tuple Creation and Access:\n",
        "Create a tuple named colors with the elements 'red', 'green', and 'blue'.\n",
        "Access the second element of the tuple and print it."
      ],
      "metadata": {
        "id": "f-JYrPTkDFKG"
      }
    },
    {
      "cell_type": "code",
      "source": [
        "colors = ('red', 'green', 'blue')\n",
        "print(colors[1])"
      ],
      "metadata": {
        "colab": {
          "base_uri": "https://localhost:8080/"
        },
        "id": "neEi9Yf_DFs-",
        "outputId": "adf71798-76b4-448e-8059-0b90e014cfc8"
      },
      "execution_count": null,
      "outputs": [
        {
          "output_type": "stream",
          "name": "stdout",
          "text": [
            "green\n"
          ]
        }
      ]
    },
    {
      "cell_type": "markdown",
      "source": [
        "Immutable Nature:\n",
        "Explain in your own words why tuples are considered immutable.\n",
        "Attempt to modify an element in an existing tuple and observe the resulting error."
      ],
      "metadata": {
        "id": "SDEtIuPrDPLQ"
      }
    },
    {
      "cell_type": "code",
      "source": [
        "colors = ('red', 'green', 'blue')\n",
        "\n",
        "colors[1] = 'purple'\n",
        "\n",
        "# This will result in a TypeError: 'tuple' object does not support item assignment\n"
      ],
      "metadata": {
        "colab": {
          "base_uri": "https://localhost:8080/",
          "height": 216
        },
        "id": "OVPizEE7DJmY",
        "outputId": "1d3dab81-9520-464a-88b8-50360c0c9477"
      },
      "execution_count": null,
      "outputs": [
        {
          "output_type": "error",
          "ename": "TypeError",
          "evalue": "'tuple' object does not support item assignment",
          "traceback": [
            "\u001b[0;31m---------------------------------------------------------------------------\u001b[0m",
            "\u001b[0;31mTypeError\u001b[0m                                 Traceback (most recent call last)",
            "\u001b[0;32m<ipython-input-8-059fdec96f55>\u001b[0m in \u001b[0;36m<cell line: 3>\u001b[0;34m()\u001b[0m\n\u001b[1;32m      1\u001b[0m \u001b[0mcolors\u001b[0m \u001b[0;34m=\u001b[0m \u001b[0;34m(\u001b[0m\u001b[0;34m'red'\u001b[0m\u001b[0;34m,\u001b[0m \u001b[0;34m'green'\u001b[0m\u001b[0;34m,\u001b[0m \u001b[0;34m'blue'\u001b[0m\u001b[0;34m)\u001b[0m\u001b[0;34m\u001b[0m\u001b[0;34m\u001b[0m\u001b[0m\n\u001b[1;32m      2\u001b[0m \u001b[0;34m\u001b[0m\u001b[0m\n\u001b[0;32m----> 3\u001b[0;31m \u001b[0mcolors\u001b[0m\u001b[0;34m[\u001b[0m\u001b[0;36m1\u001b[0m\u001b[0;34m]\u001b[0m \u001b[0;34m=\u001b[0m \u001b[0;34m'purple'\u001b[0m\u001b[0;34m\u001b[0m\u001b[0;34m\u001b[0m\u001b[0m\n\u001b[0m\u001b[1;32m      4\u001b[0m \u001b[0;34m\u001b[0m\u001b[0m\n\u001b[1;32m      5\u001b[0m \u001b[0;31m# This will result in a TypeError: 'tuple' object does not support item assignment\u001b[0m\u001b[0;34m\u001b[0m\u001b[0;34m\u001b[0m\u001b[0m\n",
            "\u001b[0;31mTypeError\u001b[0m: 'tuple' object does not support item assignment"
          ]
        }
      ]
    },
    {
      "cell_type": "markdown",
      "source": [
        " Tuple Slicing:\n",
        "Given the tuple numbers = (1, 2, 3, 4, 5), use slicing to extract the elements from index 1 to 3 (inclusive).\n",
        "What would be the output of numbers[::-1]?"
      ],
      "metadata": {
        "id": "BACYcIBrDd_K"
      }
    },
    {
      "cell_type": "code",
      "source": [
        "numbers = (1, 2, 3, 4, 5)\n",
        "\n",
        "sliced_tuple = numbers[1:4]\n",
        "print(sliced_tuple)\n",
        "\n",
        "reversed_tuple = numbers[::-1]\n",
        "print(reversed_tuple)"
      ],
      "metadata": {
        "colab": {
          "base_uri": "https://localhost:8080/"
        },
        "id": "vLxBKDzIDbf1",
        "outputId": "a3537dfe-90da-477f-e153-ff9b1822f3db"
      },
      "execution_count": null,
      "outputs": [
        {
          "output_type": "stream",
          "name": "stdout",
          "text": [
            "(2, 3, 4)\n",
            "(5, 4, 3, 2, 1)\n"
          ]
        }
      ]
    },
    {
      "cell_type": "markdown",
      "source": [
        "Tuple Concatenation and Repetition:\n",
        "Create two tuples, fruits with elements 'apple', 'banana', and berries with elements 'strawberry', 'blueberry'.\n",
        "Concatenate the two tuples and store the result in a new tuple named combined\n",
        "_\n",
        "fruits.\n",
        "Repeat the combined\n",
        "_\n",
        "fruits tuple three times and print the result."
      ],
      "metadata": {
        "id": "GUW7P04fDpTM"
      }
    },
    {
      "cell_type": "code",
      "source": [
        "fruits = ('apple', 'banana')\n",
        "berries = ('strawberry', 'blueberry')\n",
        "\n",
        "combined_fruits = fruits + berries\n",
        "print(combined_fruits)\n",
        "\n",
        "repeated_fruits = combined_fruits * 3\n",
        "print(repeated_fruits)\n"
      ],
      "metadata": {
        "colab": {
          "base_uri": "https://localhost:8080/"
        },
        "id": "bpMt7X_YDjOK",
        "outputId": "e82712c1-9031-4af4-ece6-cfd7afa6c2aa"
      },
      "execution_count": null,
      "outputs": [
        {
          "output_type": "stream",
          "name": "stdout",
          "text": [
            "('apple', 'banana', 'strawberry', 'blueberry')\n",
            "('apple', 'banana', 'strawberry', 'blueberry', 'apple', 'banana', 'strawberry', 'blueberry', 'apple', 'banana', 'strawberry', 'blueberry')\n"
          ]
        }
      ]
    },
    {
      "cell_type": "markdown",
      "source": [
        "Built-in Tuple Methods:\n",
        "Create a tuple named grades with the elements 90, 85, 92, 88, 95.\n",
        "Use the count() method to find how many times the grade 88 appears in the tuple.\n",
        "Use the index() method to find the index of the grade 92."
      ],
      "metadata": {
        "id": "0kUnhZXID-Vz"
      }
    },
    {
      "cell_type": "code",
      "source": [
        "grades = (90, 85, 92, 88, 95)\n",
        "\n",
        "count_88 = grades.count(88)\n",
        "print(f\"The grade 88 appears {count_88} times in the tuple.\")\n",
        "\n",
        "index_92 = grades.index(92)\n",
        "print(f\"The grade 92 is at index {index_92} in the tuple.\")\n"
      ],
      "metadata": {
        "colab": {
          "base_uri": "https://localhost:8080/"
        },
        "id": "og_VHxHLD2F1",
        "outputId": "95bb0d3b-9506-45f5-89ed-eb6700e3016b"
      },
      "execution_count": null,
      "outputs": [
        {
          "output_type": "stream",
          "name": "stdout",
          "text": [
            "The grade 88 appears 1 times in the tuple.\n",
            "The grade 92 is at index 2 in the tuple.\n"
          ]
        }
      ]
    },
    {
      "cell_type": "markdown",
      "source": [
        "Advantages of Tuples:\n",
        "Explain one advantage of using tuples over lists in Python.\n",
        "Describe a scenario where the immutability of tuples could be beneficial in a program."
      ],
      "metadata": {
        "id": "Vx3m9L8kEGYG"
      }
    },
    {
      "cell_type": "code",
      "source": [
        "**Advantages of Tuples:**\n",
        "\n",
        "* **Memory Efficiency:** Tuples are more memory-efficient than lists because they are immutable. This means that the interpreter does not need to allocate extra space to store the length of the tuple, as it does for lists.\n",
        "* **Immutability:** The immutability of tuples can be beneficial in a number of scenarios. For example, if you are storing data that should not be changed, such as the version of a library or the configuration of a system, using a tuple can help to prevent accidental modifications.\n",
        "\n",
        "**Scenario where immutability is beneficial:**\n",
        "\n",
        "One scenario where the immutability of tuples could be beneficial is in a program that stores the configuration of a system. If the configuration data is stored in a tuple, it can help to ensure that the configuration is not accidentally modified, which could lead to unexpected behavior or errors.\n",
        "\n",
        "For example, consider a program that uses a tuple to store the following configuration data:\n",
        "\n"
      ],
      "metadata": {
        "id": "MVLRjyVlED_W"
      },
      "execution_count": null,
      "outputs": []
    },
    {
      "cell_type": "markdown",
      "source": [
        "Multiple Data Types in a Tuple:\n",
        "Create a tuple named mixed\n",
        "_\n",
        "types with elements 'apple', 42, and 3.14.\n",
        "Access and print the second element of the tuple."
      ],
      "metadata": {
        "id": "DFw8yiy5EMOm"
      }
    },
    {
      "cell_type": "code",
      "source": [
        "mixed_types = ('apple', 42, 3.14)\n",
        "\n",
        "print(mixed_types[1])\n"
      ],
      "metadata": {
        "colab": {
          "base_uri": "https://localhost:8080/"
        },
        "id": "xLGFAEHREPMu",
        "outputId": "fb1d41ee-828b-4fab-b7dc-06874793fb29"
      },
      "execution_count": null,
      "outputs": [
        {
          "output_type": "stream",
          "name": "stdout",
          "text": [
            "42\n"
          ]
        }
      ]
    },
    {
      "cell_type": "markdown",
      "source": [
        "Conversion:\n",
        "Convert the list ['cat'\n",
        ",\n",
        "'dog'\n",
        ",\n",
        "'rabbit'] into a tuple named animals.\n",
        "Print the tuple to verify the conversion."
      ],
      "metadata": {
        "id": "E-y7sB8AEVMF"
      }
    },
    {
      "cell_type": "code",
      "source": [
        "animals = tuple(['cat', 'dog', 'rabbit'])\n",
        "print(animals)\n"
      ],
      "metadata": {
        "colab": {
          "base_uri": "https://localhost:8080/"
        },
        "id": "fmSIAJkzETE9",
        "outputId": "5e88356d-0a6b-41b8-9982-b673305fb07a"
      },
      "execution_count": null,
      "outputs": [
        {
          "output_type": "stream",
          "name": "stdout",
          "text": [
            "('cat', 'dog', 'rabbit')\n"
          ]
        }
      ]
    },
    {
      "cell_type": "markdown",
      "source": [
        "Nested Tuples:\n",
        "Create a tuple outer\n",
        "_\n",
        "tuple with two elements: 'apple' and another tuple ('red', 'green', 'yellow').\n",
        "Access the second element of the inner tuple and print it."
      ],
      "metadata": {
        "id": "a1ppR3SyEabe"
      }
    },
    {
      "cell_type": "code",
      "source": [
        "outer_tuple = ('apple', ('red', 'green', 'yellow'))\n",
        "\n",
        "inner_tuple = outer_tuple[1]\n",
        "\n",
        "second_element = inner_tuple[1]\n",
        "\n",
        "print(second_element)\n"
      ],
      "metadata": {
        "id": "WlQTLPdwEYTB"
      },
      "execution_count": null,
      "outputs": []
    },
    {
      "cell_type": "code",
      "source": [
        "mixed_types = ('apple', 42, 3.14)\n",
        "my_list = list(mixed_types)\n",
        "print(my_list)"
      ],
      "metadata": {
        "colab": {
          "base_uri": "https://localhost:8080/"
        },
        "id": "dZjLmHzMEv6j",
        "outputId": "b793bdf9-20ed-4d35-91d8-2e112f4852ee"
      },
      "execution_count": null,
      "outputs": [
        {
          "output_type": "stream",
          "name": "stdout",
          "text": [
            "['apple', 42, 3.14]\n"
          ]
        }
      ]
    },
    {
      "cell_type": "markdown",
      "source": [
        "1.\n",
        "   - You are managing the inventory for a small bookstore. Create a list of book titles available in the store. Add new titles to the list as they arrive. If a book is sold out, remove it from the list. Write a function to check if a specific book is in stock."
      ],
      "metadata": {
        "id": "tgpfBcXOMyDA"
      }
    },
    {
      "cell_type": "code",
      "source": [
        "book_titles = ['The Great Gatsby', 'To Kill a Mockingbird', '1984']\n",
        "\n",
        "book_titles.append('Pride and Prejudice')\n",
        "book_titles.append('Jane Eyre')\n",
        "\n",
        "book_titles.remove('1984')\n",
        "\n",
        "def is_book_in_stock(book_title):\n",
        "  return book_title in book_titles\n",
        "\n",
        "print(is_book_in_stock('Animal Farm'))\n",
        "\n",
        "print(is_book_in_stock('Pride and Prejudice'))\n"
      ],
      "metadata": {
        "colab": {
          "base_uri": "https://localhost:8080/"
        },
        "id": "_iLcD4SeMGB-",
        "outputId": "a1188b50-849d-4bd5-f5ef-de1f53486ad8"
      },
      "execution_count": null,
      "outputs": [
        {
          "output_type": "stream",
          "name": "stdout",
          "text": [
            "False\n",
            "True\n"
          ]
        }
      ]
    },
    {
      "cell_type": "markdown",
      "source": [
        "2.\n",
        "   - You have a list of grades for a class of students. Write a function to add a new grade to the list. Another function should remove the lowest grade. Write a third function to calculate the average grade."
      ],
      "metadata": {
        "id": "mnlF7qYaMvEK"
      }
    },
    {
      "cell_type": "code",
      "source": [
        "grades = [73, 85, 92, 88, 95]\n",
        "\n",
        "grades.append(97)\n",
        "\n",
        "grades.remove(min(grades))\n",
        "\n",
        "average_grade = sum(grades) / len(grades)\n",
        "\n",
        "print(grades)\n",
        "print(average_grade)\n"
      ],
      "metadata": {
        "colab": {
          "base_uri": "https://localhost:8080/"
        },
        "id": "YF6Byh7CMrQW",
        "outputId": "e75fc1f9-5604-4e8a-9a41-5abc18e4560f"
      },
      "execution_count": null,
      "outputs": [
        {
          "output_type": "stream",
          "name": "stdout",
          "text": [
            "[85, 92, 88, 95, 97]\n",
            "91.4\n"
          ]
        }
      ]
    },
    {
      "cell_type": "markdown",
      "source": [
        "3.\n",
        "   - Implement a simple to-do list application. Create a list to store tasks. Write functions to add a task, remove a task by its name, and display all tasks. Ensure that the tasks are displayed in the order they were added."
      ],
      "metadata": {
        "id": "lIqUEQo2NGiq"
      }
    },
    {
      "cell_type": "code",
      "source": [
        "tasks = []\n",
        "\n",
        "tasks.append(\"Buy groceries\")\n",
        "\n",
        "tasks.append(\"Do laundry\")\n",
        "\n",
        "for task in tasks:\n",
        "    print(task)\n",
        "\n",
        "tasks.remove(\"Buy groceries\")\n",
        "\n",
        "for task in tasks:\n",
        "    print(task)\n"
      ],
      "metadata": {
        "colab": {
          "base_uri": "https://localhost:8080/"
        },
        "id": "2RGZeFXBNBYR",
        "outputId": "d8e6336f-b916-4e96-b545-9a331786ca4f"
      },
      "execution_count": null,
      "outputs": [
        {
          "output_type": "stream",
          "name": "stdout",
          "text": [
            "Buy groceries\n",
            "Do laundry\n",
            "Do laundry\n"
          ]
        }
      ]
    },
    {
      "cell_type": "markdown",
      "source": [
        "4.\n",
        "   - Create a list to store items you need to buy from the grocery store. Write functions to add items, remove items, and check if a specific item is already on the list. Ensure that duplicate items are not added."
      ],
      "metadata": {
        "id": "pwmi8pauNUbL"
      }
    },
    {
      "cell_type": "code",
      "source": [
        "grocery_list = []\n",
        "\n",
        "grocery_list.append(\"Milk\")\n",
        "grocery_list.append(\"Eggs\")\n",
        "grocery_list.append(\"Bread\")\n",
        "\n",
        "grocery_list.remove(\"Milk\")\n",
        "\n",
        "if \"Eggs\" in grocery_list:\n",
        "  print(\"Eggs are on the list\")\n",
        "\n",
        "if \"Bread\" not in grocery_list:\n",
        "  grocery_list.append(\"Bread\")\n",
        "\n",
        "print(grocery_list)\n"
      ],
      "metadata": {
        "colab": {
          "base_uri": "https://localhost:8080/"
        },
        "id": "b48DChxMNROT",
        "outputId": "8ed57e11-87da-47a8-f701-f9ed87a863cc"
      },
      "execution_count": null,
      "outputs": [
        {
          "output_type": "stream",
          "name": "stdout",
          "text": [
            "Eggs are on the list\n",
            "['Eggs', 'Bread']\n"
          ]
        }
      ]
    },
    {
      "cell_type": "markdown",
      "source": [
        "\n",
        "5.\n",
        "   - You are tracking daily temperatures for a month. Create a list to store these temperatures. Write functions to find the highest and lowest temperatures, and to calculate the average temperature for the month."
      ],
      "metadata": {
        "id": "mxgcm6v7Nge0"
      }
    },
    {
      "cell_type": "code",
      "source": [
        "temperatures = [32, 35, 40, 38, 31, 34, 36, 37, 33, 39, 41, 30]\n",
        "\n",
        "highest_temperature = max(temperatures)\n",
        "lowest_temperature = min(temperatures)\n",
        "average_temperature = sum(temperatures) / len(temperatures)\n",
        "\n",
        "print(f\"Highest temperature: {highest_temperature}\")\n",
        "print(f\"Lowest temperature: {lowest_temperature}\")\n",
        "print(f\"Average temperature: {average_temperature}\")"
      ],
      "metadata": {
        "colab": {
          "base_uri": "https://localhost:8080/"
        },
        "id": "Km_Zf7gfNeV7",
        "outputId": "c78522d0-e3da-4083-8ff7-d4aa03fa90c5"
      },
      "execution_count": null,
      "outputs": [
        {
          "output_type": "stream",
          "name": "stdout",
          "text": [
            "Highest temperature: 41\n",
            "Lowest temperature: 30\n",
            "Average temperature: 35.5\n"
          ]
        }
      ]
    },
    {
      "cell_type": "markdown",
      "source": [
        "6.\n",
        "   - You are responsible for assigning seats to students in a classroom. Create a list to represent the seating arrangement. Write functions to assign a seat to a new student, find a student's seat by name, and swap seats between two students."
      ],
      "metadata": {
        "id": "A0VmRWVYNt9U"
      }
    },
    {
      "cell_type": "code",
      "source": [
        "seating_chart = ['Alice', 'Bob', 'Carol', 'Dave', 'Eve']\n",
        "\n",
        "seating_chart.append('Frank')\n",
        "\n",
        "student_name = 'Carol'\n",
        "student_seat = seating_chart.index(student_name)\n",
        "\n",
        "student1_name = 'Bob'\n",
        "student2_name = 'Eve'\n",
        "\n",
        "student1_seat = seating_chart.index(student1_name)\n",
        "student2_seat = seating_chart.index(student2_name)\n",
        "\n",
        "seating_chart[student1_seat], seating_chart[student2_seat] = seating_chart[student2_seat], seating_chart[student1_seat]\n",
        "\n",
        "print(seating_chart)\n"
      ],
      "metadata": {
        "colab": {
          "base_uri": "https://localhost:8080/"
        },
        "id": "o-HKounTNp-H",
        "outputId": "162dc8d3-d7ba-4a31-81c5-bfb1f70a7c2b"
      },
      "execution_count": null,
      "outputs": [
        {
          "output_type": "stream",
          "name": "stdout",
          "text": [
            "['Alice', 'Eve', 'Carol', 'Dave', 'Bob', 'Frank']\n"
          ]
        }
      ]
    },
    {
      "cell_type": "markdown",
      "source": [
        "7.\n",
        "   - You are organizing an event and need to manage the guest list. Create a list to store the names of the guests. Write functions to add a guest, remove a guest by name, and check if a person is on the guest list."
      ],
      "metadata": {
        "id": "eez1xsY9Oarm"
      }
    },
    {
      "cell_type": "code",
      "source": [
        "guest_list = []\n",
        "\n",
        "# Add a guest\n",
        "guest_name = \"John Doe\"\n",
        "guest_list.append(guest_name)\n",
        "\n",
        "# Remove a guest by name\n",
        "guest_name = \"Jane Doe\"\n",
        "if guest_name in guest_list:\n",
        "    guest_list.remove(guest_name)\n",
        "\n",
        "# Check if a person is on the guest list\n",
        "person_name = \"John Doe\"\n",
        "if person_name in guest_list:\n",
        "    print(f\"{person_name} is on the guest list.\")\n",
        "else:\n",
        "    print(f\"{person_name} is not on the guest list.\")\n"
      ],
      "metadata": {
        "colab": {
          "base_uri": "https://localhost:8080/"
        },
        "id": "SirQur8SN28S",
        "outputId": "71a73dd2-a0cd-4dc2-b2fb-f6cb40317ba9"
      },
      "execution_count": null,
      "outputs": [
        {
          "output_type": "stream",
          "name": "stdout",
          "text": [
            "John Doe is on the guest list.\n"
          ]
        }
      ]
    },
    {
      "cell_type": "markdown",
      "source": [
        "8.\n",
        "   - Create a playlist for a party. Use a list to store song titles. Write functions to add a song, remove a song by title, and shuffle the playlist. Ensure no duplicate songs are added to the playlist."
      ],
      "metadata": {
        "id": "eOXLJecjOxj-"
      }
    },
    {
      "cell_type": "code",
      "source": [
        "# prompt: 8.\n",
        "#    - Create a playlist for a party. Use a list to store song titles. Write code to add a song, remove a song by title, and shuffle the playlist. Ensure no duplicate songs are added to the playlist. without functions\n",
        "\n",
        "# Initialize the playlist as an empty list\n",
        "playlist = []\n",
        "\n",
        "# Add a song to the playlist\n",
        "new_song = \"Party Rock Anthem\"\n",
        "if new_song not in playlist:\n",
        "    playlist.append(new_song)\n",
        "\n",
        "# Remove a song by title\n",
        "song_to_remove = \"Call Me Maybe\"\n",
        "if song_to_remove in playlist:\n",
        "    playlist.remove(song_to_remove)\n",
        "\n",
        "# Shuffle the playlist\n",
        "import random\n",
        "random.shuffle(playlist)\n",
        "\n",
        "# Print the updated playlist\n",
        "print(playlist)\n"
      ],
      "metadata": {
        "id": "XsD93s7KOvVC"
      },
      "execution_count": null,
      "outputs": []
    },
    {
      "cell_type": "markdown",
      "source": [
        "9.\n",
        "   - You are managing course enrollments for a university. Create a list of students enrolled in a course. Write functions to add a student, remove a student by name, and find the total number of students enrolled."
      ],
      "metadata": {
        "id": "ZuUiIs5tO40R"
      }
    },
    {
      "cell_type": "code",
      "source": [
        "# prompt: 9.\n",
        "#    - You are managing course enrollments for a university. Create a list of students enrolled in a course. Write code to add a student, remove a student by name, and find the total number of students enrolled. without functions\n",
        "\n",
        "# Initialize the list of students\n",
        "students = []\n",
        "\n",
        "# Add a student\n",
        "new_student = \"John Doe\"\n",
        "students.append(new_student)\n",
        "\n",
        "# Remove a student by name\n",
        "student_to_remove = \"Jane Doe\"\n",
        "if student_to_remove in students:\n",
        "    students.remove(student_to_remove)\n",
        "\n",
        "# Find the total number of students enrolled\n",
        "total_students = len(students)\n",
        "\n",
        "# Print the updated list of students and the total number of students\n",
        "print(students)\n",
        "print(f\"Total students enrolled: {total_students}\")\n"
      ],
      "metadata": {
        "id": "YJpTAXfdO5XL"
      },
      "execution_count": null,
      "outputs": []
    },
    {
      "cell_type": "markdown",
      "source": [
        "10.\n",
        "    - You are creating a recipe management system. Create a list of ingredients required for a recipe. Write functions to add an ingredient, remove an ingredient by name, and check if a specific ingredient is in the list. Sort the list of ingredients alphabetically."
      ],
      "metadata": {
        "id": "W83K8aQWPBOE"
      }
    },
    {
      "cell_type": "code",
      "source": [
        "# prompt: 10.\n",
        "#     - You are creating a recipe management system. Create a list of ingredients required for a recipe. Write code to add an ingredient, remove an ingredient by name, and check if a specific ingredient is in the list. Sort the list of ingredients alphabetically. without functions\n",
        "\n",
        "ingredients = []\n",
        "\n",
        "# Add an ingredient\n",
        "new_ingredient = \"Flour\"\n",
        "ingredients.append(new_ingredient)\n",
        "\n",
        "# Remove an ingredient by name\n",
        "ingredient_to_remove = \"Sugar\"\n",
        "if ingredient_to_remove in ingredients:\n",
        "    ingredients.remove(ingredient_to_remove)\n",
        "\n",
        "# Check if a specific ingredient is in the list\n",
        "specific_ingredient = \"Salt\"\n",
        "if specific_ingredient in ingredients:\n",
        "    print(f\"{specific_ingredient} is in the list.\")\n",
        "else:\n",
        "    print(f\"{specific_ingredient} is not in the list.\")\n",
        "\n",
        "# Sort the list of ingredients alphabetically\n",
        "ingredients.sort()\n",
        "\n",
        "# Print the updated list of ingredients\n",
        "print(ingredients)\n"
      ],
      "metadata": {
        "id": "vFagwt1cPB5C"
      },
      "execution_count": null,
      "outputs": []
    },
    {
      "cell_type": "markdown",
      "source": [
        "11.\n",
        "    - You are analyzing responses from a survey. Create a list of responses. Write functions to add a response, remove a response by its index, and calculate the frequency of each unique response."
      ],
      "metadata": {
        "id": "iJ50efTbPRuF"
      }
    },
    {
      "cell_type": "code",
      "source": [
        "# prompt: 11.\n",
        "#     - You are analyzing responses from a survey. Create a list of responses. Write code to add a response, remove a response by its index, and calculate the frequency of each unique response. without functiosn\n",
        "\n",
        "responses = []\n",
        "\n",
        "# Add a response\n",
        "responses.append(\"Very satisfied\")\n",
        "\n",
        "# Remove a response by index\n",
        "del responses[0]\n",
        "\n",
        "# Calculate the frequency of each unique response\n",
        "unique_responses = set(responses)\n",
        "frequency = {}\n",
        "for response in unique_responses:\n",
        "    frequency[response] = responses.count(response)\n",
        "\n",
        "# Print the frequency of each unique response\n",
        "for response, count in frequency.items():\n",
        "    print(f\"{response}: {count}\")\n"
      ],
      "metadata": {
        "id": "Y5QRw9WIPh0S"
      },
      "execution_count": null,
      "outputs": []
    },
    {
      "cell_type": "markdown",
      "source": [
        "12.\n",
        "    - Implement a flight booking system. Create a list to store the names of passengers on a flight. Write functions to add a passenger, remove a passenger by name, and find the seat number of a passenger (assuming the index represents the seat number)."
      ],
      "metadata": {
        "id": "49_DFXTHPYrr"
      }
    },
    {
      "cell_type": "code",
      "source": [
        "passengers = []\n",
        "\n",
        "new_passenger = \"John Doe\"\n",
        "passengers.append(new_passenger)\n",
        "\n",
        "passenger_to_remove = \"Jane Doe\"\n",
        "if passenger_to_remove in passengers:\n",
        "    passengers.remove(passenger_to_remove)\n",
        "\n",
        "passenger_name = \"John Doe\"\n",
        "if passenger_name in passengers:\n",
        "    seat_number = passengers.index(passenger_name)\n",
        "    print(f\"{passenger_name}'s seat number is {seat_number + 1}.\")\n",
        "else:\n",
        "    print(f\"{passenger_name} is not on the flight.\")\n"
      ],
      "metadata": {
        "colab": {
          "base_uri": "https://localhost:8080/"
        },
        "id": "HNke6tB_PW5O",
        "outputId": "abe5976d-8c36-43fe-ec14-7937e2a5002e"
      },
      "execution_count": null,
      "outputs": [
        {
          "output_type": "stream",
          "name": "stdout",
          "text": [
            "John Doe's seat number is 1.\n"
          ]
        }
      ]
    },
    {
      "cell_type": "markdown",
      "source": [
        "13.\n",
        "    - Develop an online shopping cart system. Create a list to store the items in the cart. Write functions to add an item, remove an item by name, and calculate the total price of all items in the cart."
      ],
      "metadata": {
        "id": "u_UVuuN4PtSd"
      }
    },
    {
      "cell_type": "code",
      "source": [
        "shopping_cart = []\n",
        "\n",
        "new_item = \"Apple\"\n",
        "shopping_cart.append(new_item)\n",
        "\n",
        "item_to_remove = \"Banana\"\n",
        "if item_to_remove in shopping_cart:\n",
        "    shopping_cart.remove(item_to_remove)\n",
        "\n",
        "total_price = len(shopping_cart) * 1.00\n",
        "\n",
        "print(shopping_cart)\n",
        "print(f\"Total price: ${total_price}\")\n"
      ],
      "metadata": {
        "colab": {
          "base_uri": "https://localhost:8080/"
        },
        "id": "mJOY97ysPyMF",
        "outputId": "50c03fb1-f8f1-4315-ae9b-4608eaac5b2f"
      },
      "execution_count": null,
      "outputs": [
        {
          "output_type": "stream",
          "name": "stdout",
          "text": [
            "['Apple']\n",
            "Total price: $1.0\n"
          ]
        }
      ]
    },
    {
      "cell_type": "markdown",
      "source": [
        "14.\n",
        "    - You are managing a library system. Create a list of books currently borrowed by patrons. Write functions to add a borrowed book, return a book (remove it from the list), and check if a specific book is currently borrowed."
      ],
      "metadata": {
        "id": "g6lFD2V2P6AW"
      }
    },
    {
      "cell_type": "code",
      "source": [
        "borrowed_books = []\n",
        "\n",
        "new_book = \"The Great Gatsby\"\n",
        "borrowed_books.append(new_book)\n",
        "\n",
        "returned_book = \"To Kill a Mockingbird\"\n",
        "if returned_book in borrowed_books:3\n",
        "    borrowed_books.remove(returned_book)\n",
        "\n",
        "specific_book = \"1984\"\n",
        "if specific_book in borrowed_books:\n",
        "    print(f\"{specific_book} is currently borrowed.\")\n",
        "else:\n",
        "    print(f\"{specific_book} is not currently borrowed.\")\n",
        "\n",
        "print(borrowed_books)\n"
      ],
      "metadata": {
        "colab": {
          "base_uri": "https://localhost:8080/"
        },
        "id": "bLMf_55RP3cU",
        "outputId": "91a2c085-1ffd-418f-87f3-cfdc8798fd7a"
      },
      "execution_count": null,
      "outputs": [
        {
          "output_type": "stream",
          "name": "stdout",
          "text": [
            "1984 is not currently borrowed.\n",
            "['The Great Gatsby']\n"
          ]
        }
      ]
    },
    {
      "cell_type": "markdown",
      "source": [
        "15.\n",
        "    - Create a weekly meal planner. Use a list to store meals for each day of the week. Write functions to add a meal for a specific day, remove a meal by day, and display the meal plan for the entire week."
      ],
      "metadata": {
        "id": "wdLt5qByQFR8"
      }
    },
    {
      "cell_type": "code",
      "source": [
        "meal_planner = [None] * 7\n",
        "\n",
        "day = \"Monday\"\n",
        "meal = \"Pasta\"\n",
        "day_index = [\"Monday\", \"Tuesday\", \"Wednesday\", \"Thursday\", \"Friday\", \"Saturday\", \"Sunday\"].index(day)\n",
        "meal_planner[day_index] = meal\n",
        "\n",
        "day = \"Tuesday\"\n",
        "day_index = [\"Monday\", \"Tuesday\", \"Wednesday\", \"Thursday\", \"Friday\", \"Saturday\", \"Sunday\"].index(day)\n",
        "meal_planner[day_index] = None\n",
        "\n",
        "for day, meal in zip([\"Monday\", \"Tuesday\", \"Wednesday\", \"Thursday\", \"Friday\", \"Saturday\", \"Sunday\"], meal_planner):\n",
        "    print(f\"{day}: {meal}\")\n"
      ],
      "metadata": {
        "id": "eU2OUh2QQFvH",
        "outputId": "91dbfa59-ccbe-47d7-89ea-56e289e815dc",
        "colab": {
          "base_uri": "https://localhost:8080/"
        }
      },
      "execution_count": null,
      "outputs": [
        {
          "output_type": "stream",
          "name": "stdout",
          "text": [
            "Monday: Pasta\n",
            "Tuesday: None\n",
            "Wednesday: None\n",
            "Thursday: None\n",
            "Friday: None\n",
            "Saturday: None\n",
            "Sunday: None\n"
          ]
        }
      ]
    },
    {
      "cell_type": "code",
      "source": [],
      "metadata": {
        "id": "DGpjIr9CQKKy"
      },
      "execution_count": null,
      "outputs": []
    }
  ]
}