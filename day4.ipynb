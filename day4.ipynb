{
  "nbformat": 4,
  "nbformat_minor": 0,
  "metadata": {
    "colab": {
      "provenance": [],
      "authorship_tag": "ABX9TyP+MB6ZqZcx8y00IVKlWCsg",
      "include_colab_link": true
    },
    "kernelspec": {
      "name": "python3",
      "display_name": "Python 3"
    },
    "language_info": {
      "name": "python"
    }
  },
  "cells": [
    {
      "cell_type": "markdown",
      "metadata": {
        "id": "view-in-github",
        "colab_type": "text"
      },
      "source": [
        "<a href=\"https://colab.research.google.com/github/komalpreetkaur1234-dev/DAILY-DAIRY/blob/main/day4.ipynb\" target=\"_parent\"><img src=\"https://colab.research.google.com/assets/colab-badge.svg\" alt=\"Open In Colab\"/></a>"
      ]
    },
    {
      "cell_type": "markdown",
      "source": [],
      "metadata": {
        "id": "zFRR89R1PNxB"
      }
    },
    {
      "cell_type": "code",
      "execution_count": null,
      "metadata": {
        "id": "4uiTfqAvPJzt"
      },
      "outputs": [],
      "source": [
        "string  DATA TYPE"
      ]
    },
    {
      "cell_type": "markdown",
      "source": [],
      "metadata": {
        "id": "TgB_y4smQLc3"
      }
    },
    {
      "cell_type": "code",
      "source": [
        "name='komal preet'\n",
        "print(len(name))\n",
        "print(type(name))"
      ],
      "metadata": {
        "colab": {
          "base_uri": "https://localhost:8080/"
        },
        "id": "QMBzyn53RM0m",
        "outputId": "5a5033b2-4ba0-4fed-ba9f-8565cf241823"
      },
      "execution_count": null,
      "outputs": [
        {
          "output_type": "stream",
          "name": "stdout",
          "text": [
            "11\n",
            "<class 'str'>\n"
          ]
        }
      ]
    },
    {
      "cell_type": "code",
      "source": [
        "#str.upper()method\n",
        "str='nitin'\n",
        "print(str.upper())\n",
        "#str.lower\n",
        "str='NITIN'\n",
        "print(str.lower())\n",
        "\n",
        "#str.capitalize\n",
        "str='nitin garg'\n",
        "print(str.capitalize())\n",
        "#str.title\n",
        "str='nitin garg'\n",
        "print(str.title())\n",
        "#str.sawpcase\n",
        "str='nitin garg'\n",
        "print(str.swapcase())\n",
        "#expand tabs\n",
        "#str.isalpha\n",
        "#str.islower\n",
        "#index()\n"
      ],
      "metadata": {
        "colab": {
          "base_uri": "https://localhost:8080/"
        },
        "id": "wHwR839ORiSb",
        "outputId": "810f160b-8d86-470f-e62b-66fbfabfcf28"
      },
      "execution_count": null,
      "outputs": [
        {
          "output_type": "stream",
          "name": "stdout",
          "text": [
            "NITIN\n",
            "nitin\n",
            "Nitin garg\n",
            "Nitin Garg\n"
          ]
        }
      ]
    },
    {
      "cell_type": "markdown",
      "source": [
        "Write a Python program that reverses a given string.\n",
        "Given a string, write a function to count the number of vowels in it.\n",
        "Write a program to check if a string is a palindrome.\n",
        "Implement a function to capitalize the first letter of each word in a sentence.\n"
      ],
      "metadata": {
        "id": "pfGVqclUWLT3"
      }
    },
    {
      "cell_type": "code",
      "source": [
        "str='komal'\n",
        "print(str[::-1])"
      ],
      "metadata": {
        "colab": {
          "base_uri": "https://localhost:8080/"
        },
        "id": "mNoldZknWZSo",
        "outputId": "1c8308d7-b464-483a-e56c-6f4693c3874b"
      },
      "execution_count": null,
      "outputs": [
        {
          "output_type": "stream",
          "name": "stdout",
          "text": [
            "lamok\n"
          ]
        }
      ]
    },
    {
      "cell_type": "code",
      "source": [
        "str=\"komal\"\n",
        "k=str[::-1]\n",
        "print(k)\n",
        "if k==str:\n",
        "  print(\"palindrome\")\n",
        "else:\n",
        "    print(\"not palindrome\")"
      ],
      "metadata": {
        "colab": {
          "base_uri": "https://localhost:8080/"
        },
        "id": "RKcf7tuvZwQy",
        "outputId": "14b3c4d1-6b90-4058-b6bc-48b0d8eddaf9"
      },
      "execution_count": null,
      "outputs": [
        {
          "output_type": "stream",
          "name": "stdout",
          "text": [
            "lamok\n",
            "not palindrome\n"
          ]
        }
      ]
    },
    {
      "cell_type": "code",
      "source": [
        "str='nitin garg'\n",
        "print(str.capitalize())"
      ],
      "metadata": {
        "colab": {
          "base_uri": "https://localhost:8080/"
        },
        "id": "MOlX1F-GahtE",
        "outputId": "c4c090d4-6997-4db6-deee-c857095eba3e"
      },
      "execution_count": null,
      "outputs": [
        {
          "output_type": "stream",
          "name": "stdout",
          "text": [
            "Nitin garg\n"
          ]
        }
      ]
    },
    {
      "cell_type": "markdown",
      "source": [
        "2. String Formatting:\n",
        "Create a formatted string using f-strings that includes variables and their values.\n",
        "Write a program to left-align a list of strings with a specified width.\n",
        "Given a list of names, format them into a bulleted list using string concatenation or join method\n"
      ],
      "metadata": {
        "id": "ARWNf43TaxTC"
      }
    },
    {
      "cell_type": "code",
      "source": [
        "first=\"komal\"\n",
        "sec=\"preet\"\n",
        "name=first+sec\n",
        "print(name)\n",
        "nm='kamal'\n",
        "age=19\n",
        "city=\"ludh\"\n",
        "f-string={\"name}"
      ],
      "metadata": {
        "colab": {
          "base_uri": "https://localhost:8080/"
        },
        "id": "x7j_8tZ0a6zm",
        "outputId": "52ebba0b-ac8a-49d2-bd52-6b676ceb6d21"
      },
      "execution_count": null,
      "outputs": [
        {
          "output_type": "stream",
          "name": "stdout",
          "text": [
            "komalpreet\n"
          ]
        }
      ]
    },
    {
      "cell_type": "code",
      "source": [
        "#bitwise\n",
        "x,y=5,2\n",
        "print(x&y)#and\n",
        "print(x|y)#or\n",
        "print(x^y)#xor\n",
        "print(~x,~y)#not\n",
        "print(x<<y)#left shift\n",
        "print(x>>y)#right shift"
      ],
      "metadata": {
        "colab": {
          "base_uri": "https://localhost:8080/"
        },
        "id": "CO5gog1Jd7rz",
        "outputId": "eb64850f-79b6-40f6-e91e-549d6123a8de"
      },
      "execution_count": null,
      "outputs": [
        {
          "output_type": "stream",
          "name": "stdout",
          "text": [
            "0\n",
            "7\n",
            "7\n",
            "-6 -3\n",
            "20\n",
            "1\n"
          ]
        }
      ]
    },
    {
      "cell_type": "code",
      "source": [
        "#assignment opertor\n",
        "#comparision opertor\n"
      ],
      "metadata": {
        "id": "UpzyZ2xXg7wY"
      },
      "execution_count": null,
      "outputs": []
    },
    {
      "cell_type": "markdown",
      "source": [
        "1. Given a string containing a sentence, use a string method to convert the entire string to uppercase.\n",
        "\n",
        "2. You have a string with extra spaces at the beginning and end. Use a string method to remove these extra spaces.\n",
        "\n",
        "3. Given a string, find the first occurrence of the substring \"Python\" and print its position.\n",
        "\n",
        "4. You have a string with words separated by commas. Use a string method to split the string into a list of words.\n",
        "\n",
        "5. Given a string containing a sentence, replace all occurrences of the word \"Java\" with \"Python\"."
      ],
      "metadata": {
        "id": "ymRh-3VCk9DU"
      }
    },
    {
      "cell_type": "code",
      "source": [
        "string='my name is komalpreet'\n",
        "print(string.upper())"
      ],
      "metadata": {
        "colab": {
          "base_uri": "https://localhost:8080/"
        },
        "id": "FOoo78_mk8y_",
        "outputId": "d705e0da-0de1-4ab9-b534-f201681adc9f"
      },
      "execution_count": null,
      "outputs": [
        {
          "output_type": "stream",
          "name": "stdout",
          "text": [
            "MY NAME IS KOMALPREET\n"
          ]
        }
      ]
    },
    {
      "cell_type": "code",
      "source": [
        "string=\"      komal   \"\n",
        "print(string)\n",
        "s=string.strip()\n",
        "print(s)"
      ],
      "metadata": {
        "colab": {
          "base_uri": "https://localhost:8080/"
        },
        "id": "khzMk67NlVUG",
        "outputId": "c687a0ea-3484-4918-f07a-f5d2945f2c01"
      },
      "execution_count": null,
      "outputs": [
        {
          "output_type": "stream",
          "name": "stdout",
          "text": [
            "      komal   \n",
            "komal\n"
          ]
        }
      ]
    },
    {
      "cell_type": "code",
      "source": [
        "string=\" python is python a case sensitive language\"\n",
        "substring=\"python\"\n",
        "index=string.find(substring)\n",
        "print(index)"
      ],
      "metadata": {
        "id": "_OE33hCvlBq8",
        "colab": {
          "base_uri": "https://localhost:8080/"
        },
        "outputId": "6eb92e0f-a5f1-4621-bb19-18423c6b2f18"
      },
      "execution_count": null,
      "outputs": [
        {
          "output_type": "stream",
          "name": "stdout",
          "text": [
            "1\n"
          ]
        }
      ]
    },
    {
      "cell_type": "code",
      "source": [
        "string=\"komal,nitin\"\n",
        "s=string.split()\n",
        "print(s)\n",
        "\n"
      ],
      "metadata": {
        "colab": {
          "base_uri": "https://localhost:8080/"
        },
        "id": "zFBvFDJYoH3H",
        "outputId": "28e62465-16d0-483f-e8f1-468e710751db"
      },
      "execution_count": null,
      "outputs": [
        {
          "output_type": "stream",
          "name": "stdout",
          "text": [
            "['komal,nitin']\n"
          ]
        }
      ]
    },
    {
      "cell_type": "code",
      "source": [
        "string=\"java is good language\"\n",
        "subword='java'"
      ],
      "metadata": {
        "id": "yj-p4YWZrpb9"
      },
      "execution_count": null,
      "outputs": []
    }
  ]
}